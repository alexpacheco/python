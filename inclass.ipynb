{
 "cells": [
  {
   "cell_type": "markdown",
   "metadata": {
    "slideshow": {
     "slide_type": "slide"
    }
   },
   "source": [
    "# Python Programming\n",
    "\n",
    "\n",
    "\n",
    "\n",
    "### Alex Pacheco\n",
    "\n",
    "\n",
    "### Research Computing"
   ]
  },
  {
   "cell_type": "markdown",
   "metadata": {
    "slideshow": {
     "slide_type": "slide"
    }
   },
   "source": [
    "## What is Python?\n",
    "\n",
    "\n",
    " - A general-purpose programming language (1980) by Guido van Rossum\n",
    " - Intuitive and minimal coding\n",
    " - Dynamically typed\n",
    " - Automatic memory management\n",
    " - Interpreted not compiled\n",
    " - Free (developed under an OSI-approved open-source license) and portable\n"
   ]
  },
  {
   "cell_type": "markdown",
   "metadata": {
    "slideshow": {
     "slide_type": "-"
    }
   },
   "source": [
    "## What can Python do?\n",
    "\n",
    " - web development (server-side),\n",
    " - system scripting,\n",
    " - connecting to database systems and to read and modify files,\n",
    " - handle big data and perform complex mathematics,\n",
    " - rapid prototyping, or for production-ready software development."
   ]
  },
  {
   "cell_type": "markdown",
   "metadata": {
    "slideshow": {
     "slide_type": "subslide"
    }
   },
   "source": [
    "## Why Python?\n",
    "\n",
    " - works on different platforms (Windows, Mac, Linux, Raspberry Pi, etc).\n",
    " - has a simple syntax similar to the English language.\n",
    " - has syntax that allows developers to write programs with fewer lines than some other programming languages.\n",
    " - runs on an interpreter system, meaning that code can be executed as soon as it is written. This means that prototyping can be very quick.\n",
    " - can be treated in a procedural way, an object-orientated way or a functional way.\n",
    " - The most recent major version of Python is Python 3\n",
    "     - However, Python 2, although not being updated with anything other than security updates, is still quite popular.\n"
   ]
  },
  {
   "cell_type": "markdown",
   "metadata": {
    "slideshow": {
     "slide_type": "skip"
    }
   },
   "source": [
    "## Good to know\n",
    "\n",
    " - The most recent major version of Python is Python 3, which we shall be using in this tutorial. \n",
    "     - However, Python 2, although not being updated with anything other than security updates, is still quite popular.\n",
    " - In this tutorial Python will be written in a text editor. It is possible to write Python in an Integrated Development Environment, such as Thonny, Pycharm, Netbeans or Eclipse which are particularly useful when managing larger collections of Python files.\n",
    "\n",
    "\n"
   ]
  },
  {
   "cell_type": "markdown",
   "metadata": {
    "slideshow": {
     "slide_type": "subslide"
    }
   },
   "source": [
    "## Python Syntax compared to other programming languages\n",
    "\n",
    " - Python was designed  for readability, and has some similarities to the English language with influence from mathematics.\n",
    " - Python uses new lines to complete a command, as opposed to other programming languages which often use semicolons or parentheses.\n",
    " - Python relies on indentation, using whitespace, to define scope; such as the scope of loops, functions and classes.   \n",
    " - Other programming languages often use curly-brackets for this purpose."
   ]
  },
  {
   "cell_type": "markdown",
   "metadata": {
    "slideshow": {
     "slide_type": "slide"
    }
   },
   "source": [
    "##  Installing Python\n",
    "\n",
    "\n",
    " - Many PCs and Macs will have python already installed.\n",
    " - To check if you have python installed:\n",
    "    - Open Command Line (cmd.exe) on Windows\n",
    "    - Open Terminal on Linux or Mac\n",
    " - and run the following command\n",
    "    - <code>python --version</code>"
   ]
  },
  {
   "cell_type": "markdown",
   "metadata": {
    "slideshow": {
     "slide_type": "skip"
    }
   },
   "source": [
    "If you find that you do not have python installed on your computer, then you can download it for free from the following website: https://www.python.org/"
   ]
  },
  {
   "cell_type": "markdown",
   "metadata": {
    "slideshow": {
     "slide_type": "-"
    }
   },
   "source": [
    "### Installing from Source\n",
    "\n",
    " - Python is a free and open source software that can downloaded and installed from https://www.python.org/downloads/\n",
    " - Latest stable release for Python 3 is 3.7.4 \n",
    " - A large majority of users still use the older version Python 2.\n",
    " - Python 2 is scheduled for *end-of-life* on Jan 1, 2020 and migrating to Python 3 is strongly recommended."
   ]
  },
  {
   "cell_type": "markdown",
   "metadata": {
    "slideshow": {
     "slide_type": "subslide"
    }
   },
   "source": [
    "###  Anaconda Python Distribution\n",
    "\n",
    " -  [Anaconda Python distribution](https://www.anaconda.com/distribution/) is the most popular platform for Python\n",
    " -  It provides \n",
    "     - a convenient install procedure for over 1400 Data Science libraries for Python and R\n",
    "     - conda to manage your packages, dependencies, and environments\n",
    "     - anaconda navigator: a desktop portal to install and launch applications and editors including Jupyter, RStudio, Visual Studio Code, and Spyder\n",
    "     \n",
    " - Visit https://go.lehigh.edu/linux to use Anaconda (and other Linux software) installed and maintained by the Research Computing group on your local Linux laptop or workstation\n"
   ]
  },
  {
   "cell_type": "markdown",
   "metadata": {
    "slideshow": {
     "slide_type": "subslide"
    }
   },
   "source": [
    "## Using Python\n",
    "\n",
    "- launch python by typing python on the \\*nix command line or cmd.exe in windows\n",
    "<img src=\"pythonshell.png\" width=\"80%\"> "
   ]
  },
  {
   "cell_type": "markdown",
   "metadata": {
    "slideshow": {
     "slide_type": "subslide"
    }
   },
   "source": [
    " - If you have installed Anaconda Python, then you can launch IPython, an enhanced python shell, from the command line\n",
    " ![IPython Shell](ipythonshell.png)"
   ]
  },
  {
   "cell_type": "markdown",
   "metadata": {
    "slideshow": {
     "slide_type": "subslide"
    }
   },
   "source": [
    "- Open Anaconda Navigator to launch\n",
    "    - Jupyter QtConsole\n",
    "    - Spyder, an open source IDE for python (Available on LUapps)\n",
    "    - Jupyter (formely IPython) notebooks \n",
    "    - Jupyter Lab (formerly Jupyter Hub)\n",
    "\n",
    "<img src=\"anaconda-navigator.png\" width=\"60%\">    "
   ]
  },
  {
   "cell_type": "markdown",
   "metadata": {
    "slideshow": {
     "slide_type": "subslide"
    }
   },
   "source": [
    "## Which one to use?\n",
    "\n",
    "- You should choose one that suits your need\n",
    "  - Python Shell, IPython or QtConsole: for interactive use when you do not want to save your work\n",
    "  - Spyder or other IDE's such as PyCharm: for writing scripts that you want to save for later reuse\n",
    "  - Jupyter Lab or Notebooks: for writing scripts and workflows that you can share with others, ideal for reproducible research or data reporting\n",
    "      - This presentation is written in Jupyter Notebook  \n",
    "           - Provides magic commands like ! and %% to provide access to \\*nix commands.\n",
    " - Use an editor such as vi/vim, emacs, Notepad++ etc to write a python script and execute as a batch script.\n",
    " "
   ]
  },
  {
   "cell_type": "markdown",
   "metadata": {
    "slideshow": {
     "slide_type": "subslide"
    }
   },
   "source": [
    "### Printing to screen\n",
    "\n",
    "- Python has a built-in function, *print* to write output to standard output or screen"
   ]
  },
  {
   "cell_type": "code",
   "execution_count": null,
   "metadata": {
    "slideshow": {
     "slide_type": "-"
    }
   },
   "outputs": [],
   "source": [
    "print(\"Hello World!\")"
   ]
  },
  {
   "cell_type": "markdown",
   "metadata": {},
   "source": [
    "### Reading from screen\n",
    "\n",
    "- Python has a built-in function, *input* to read input from standard input or screen"
   ]
  },
  {
   "cell_type": "code",
   "execution_count": null,
   "metadata": {},
   "outputs": [],
   "source": [
    "input('What is your name? ')"
   ]
  },
  {
   "cell_type": "markdown",
   "metadata": {
    "slideshow": {
     "slide_type": "subslide"
    }
   },
   "source": [
    "## Your First Python Script\n",
    "\n",
    "- Create a file, _myscript.py_, with the following content\n",
    "<code>\n",
    "print(\"Hello There!\")\n",
    "</code>\n",
    "- On the command line, type _python myscript.py_ and hit enter"
   ]
  },
  {
   "cell_type": "code",
   "execution_count": null,
   "metadata": {},
   "outputs": [],
   "source": [
    "!python myscript.py"
   ]
  },
  {
   "cell_type": "markdown",
   "metadata": {
    "slideshow": {
     "slide_type": "-"
    }
   },
   "source": [
    "- If you are using Jupyter Notebooks, then bang (!) is used to invoke shell commands\n"
   ]
  },
  {
   "cell_type": "markdown",
   "metadata": {
    "slideshow": {
     "slide_type": "subslide"
    }
   },
   "source": [
    "## Your First Python Script\n",
    "\n",
    "- On Linux and Mac, add _#!/usr/bin/env python_ as the first line\n",
    "- Convert _myscript.py_ to an executable and execute it"
   ]
  },
  {
   "cell_type": "code",
   "execution_count": null,
   "metadata": {},
   "outputs": [],
   "source": [
    "!cat myscript.py"
   ]
  },
  {
   "cell_type": "code",
   "execution_count": null,
   "metadata": {},
   "outputs": [],
   "source": [
    "%%bash\n",
    "chmod +x myscript.py\n",
    "./myscript.py"
   ]
  },
  {
   "cell_type": "markdown",
   "metadata": {},
   "source": [
    "- If you are using Jupyter Notebooks, then <code>%%bash</code> is used to enter a series of bash command\n",
    "   * If you only need to run one command, then use <code>!</code> followed by the command"
   ]
  },
  {
   "cell_type": "markdown",
   "metadata": {
    "slideshow": {
     "slide_type": "slide"
    }
   },
   "source": [
    "## Variables and Types\n",
    "\n",
    "- A **variable** is a name that refers to a value.\n",
    "- An **assignment statement** creates new variables and gives them values:"
   ]
  },
  {
   "cell_type": "code",
   "execution_count": null,
   "metadata": {},
   "outputs": [],
   "source": [
    "message = 'And now for something completely different'\n",
    "n = 17\n",
    "pi = 3.1415926535897931"
   ]
  },
  {
   "cell_type": "markdown",
   "metadata": {},
   "source": [
    "- The first assigns a string to a new variable named message\n",
    "- the second gives the integer 17 to n\n",
    "- the third assigns the (approximate) value of $\\pi$ to pi\n",
    "\n",
    "- To display the value of a variable, you can use a *print* function"
   ]
  },
  {
   "cell_type": "code",
   "execution_count": null,
   "metadata": {},
   "outputs": [],
   "source": [
    "print(message)"
   ]
  },
  {
   "cell_type": "markdown",
   "metadata": {
    "slideshow": {
     "slide_type": "subslide"
    }
   },
   "source": [
    "- The type of a variable is the type of the value it refers to."
   ]
  },
  {
   "cell_type": "code",
   "execution_count": null,
   "metadata": {},
   "outputs": [],
   "source": [
    "type(message)"
   ]
  },
  {
   "cell_type": "code",
   "execution_count": null,
   "metadata": {},
   "outputs": [],
   "source": [
    "type(n)"
   ]
  },
  {
   "cell_type": "code",
   "execution_count": null,
   "metadata": {},
   "outputs": [],
   "source": [
    "type(pi)"
   ]
  },
  {
   "cell_type": "markdown",
   "metadata": {
    "slideshow": {
     "slide_type": "subslide"
    }
   },
   "source": [
    "## Variable names\n",
    "\n",
    "- Variable names can be arbitrarily long. They can contain both letters and numbers, but they have to begin with a letter.\n",
    "- The underscore character (\\_) can appear in a name. \n",
    "   * It is often used in names with multiple words, such as *my_name*\n",
    "- If you give a variable an illegal name, you get a syntax error:"
   ]
  },
  {
   "cell_type": "code",
   "execution_count": null,
   "metadata": {},
   "outputs": [],
   "source": [
    "76trombones = 'big parade'"
   ]
  },
  {
   "cell_type": "code",
   "execution_count": null,
   "metadata": {},
   "outputs": [],
   "source": [
    "class = 'Advanced Theoretical Zymurgy'"
   ]
  },
  {
   "cell_type": "markdown",
   "metadata": {
    "slideshow": {
     "slide_type": "subslide"
    }
   },
   "source": [
    "## Reserved Words\n",
    "\n",
    "- Python has 31 keywords or reserved words that cannot be used for variable names."
   ]
  },
  {
   "cell_type": "markdown",
   "metadata": {},
   "source": [
    "<table>\n",
    "<tbody>\n",
    "<tr>\n",
    "<td>and</td>\n",
    "<td>del</td>\n",
    "<td>for</td>\n",
    "<td>is</td>\n",
    "<td>raise</td>\n",
    "</tr>\n",
    "<tr>\n",
    "<td>as</td>\n",
    "<td>elif</td>\n",
    "<td>from</td>\n",
    "<td>lambda</td>\n",
    "<td>return</td>\n",
    "</tr>\n",
    "<tr>\n",
    "<td>assert</td>\n",
    "<td>else</td>\n",
    "<td>global</td>\n",
    "<td>not</td>\n",
    "<td>try</td>\n",
    "</tr>\n",
    "<tr>\n",
    "<td>break</td>\n",
    "<td>except</td>\n",
    "<td>if</td>\n",
    "<td>or</td>\n",
    "<td>while</td>\n",
    "</tr>\n",
    "<tr>\n",
    "<td>class</td>\n",
    "<td>exec</td>\n",
    "<td>import</td>\n",
    "<td>pass</td>\n",
    "<td>with</td>\n",
    "</tr>\n",
    "<tr>\n",
    "<td>continue</td>\n",
    "<td>finally</td>\n",
    "<td>in</td>\n",
    "<td>print</td>\n",
    "<td>yield</td>\n",
    "</tr>\n",
    "<tr>\n",
    "<td>def</td>\n",
    "</tr>\n",
    "</tbody>\n",
    "</table>"
   ]
  },
  {
   "cell_type": "markdown",
   "metadata": {},
   "source": [
    "- Use an editor that has syntax highlighting, wherein python functions have a different color \n",
    "   - See previous slides, variable names are in the normal color i.e. black while reserved keywords, for e.g. *class*, are in green"
   ]
  },
  {
   "cell_type": "markdown",
   "metadata": {
    "slideshow": {
     "slide_type": "subslide"
    }
   },
   "source": [
    "## Statements\n",
    "\n",
    "- A statement is a unit of code that the Python interpreter can execute. We have seen two kinds of statements: print and assignment.\n",
    "\n",
    "- When you type a statement in interactive mode, the interpreter executes it and displays the result, if there is one.\n",
    "\n",
    "- A script usually contains a sequence of statements. If there is more than one statement, the results appear one at a time as the statements execute."
   ]
  },
  {
   "cell_type": "markdown",
   "metadata": {
    "slideshow": {
     "slide_type": "subslide"
    }
   },
   "source": [
    "## Operators and Operands\n",
    "\n",
    "- Operators are special symbols that represent computations like addition and multiplication. \n",
    "- The values the operator is applied to are called operands.\n",
    "\n"
   ]
  },
  {
   "cell_type": "markdown",
   "metadata": {
    "slideshow": {
     "slide_type": "-"
    }
   },
   "source": [
    "### Arithmetic Operators\n",
    "\n",
    "| Operator | Meaning | Example |\n",
    "|----------|---------|---------|\n",
    "| + (unary) | Unary Positive | \t+a |\n",
    "| + (binary) | Addition | a + b | \n",
    "| - (unary) | Unary Negation | \t-a |\n",
    "| - (binary) | Subtraction | a - b |\n",
    "| * | Multiplication | a * b |\n",
    "| / | Division | a / b |\n",
    "| %\t| Modulus | a % b |\n",
    "| //| Floor Division (also called Integer Divison | a // b |\n",
    "| ** | Exponentiation | a ** b |"
   ]
  },
  {
   "cell_type": "code",
   "execution_count": null,
   "metadata": {
    "slideshow": {
     "slide_type": "subslide"
    }
   },
   "outputs": [],
   "source": [
    "a = 4\n",
    "b = 3\n",
    "print(+a)\n",
    "print(-b)"
   ]
  },
  {
   "cell_type": "code",
   "execution_count": null,
   "metadata": {},
   "outputs": [],
   "source": [
    "print(a + b)\n",
    "print(a - b)"
   ]
  },
  {
   "cell_type": "code",
   "execution_count": null,
   "metadata": {
    "slideshow": {
     "slide_type": "subslide"
    }
   },
   "outputs": [],
   "source": [
    "print(a * b)\n",
    "print(a / b)\n",
    "print(3 * a // b)\n",
    "print(2 * a % b)\n",
    "print(a ** b)"
   ]
  },
  {
   "cell_type": "code",
   "execution_count": null,
   "metadata": {},
   "outputs": [],
   "source": [
    "print(1)\n",
    "x = 2\n",
    "print(x)"
   ]
  },
  {
   "cell_type": "markdown",
   "metadata": {
    "slideshow": {
     "slide_type": "subslide"
    }
   },
   "source": [
    "## Functions"
   ]
  },
  {
   "cell_type": "markdown",
   "metadata": {},
   "source": [
    "- A **function** is a named sequence of statements \n",
    "  - functions are specified by name and a sequence of statements. \n",
    "  - You \"call\" the function by name."
   ]
  },
  {
   "cell_type": "code",
   "execution_count": null,
   "metadata": {},
   "outputs": [],
   "source": [
    "print(x)"
   ]
  },
  {
   "cell_type": "markdown",
   "metadata": {},
   "source": [
    "- The name of the function is *print*. \n",
    "- The expression in parentheses is called the **argument** of the function. \n",
    "- The result, for this function, is the type of the argument.\n",
    "\n",
    "- It is common to say that a function \"takes\" an argument and \"returns\" a result. \n",
    "- The result is called the **return value**."
   ]
  },
  {
   "cell_type": "markdown",
   "metadata": {
    "slideshow": {
     "slide_type": "subslide"
    }
   },
   "source": [
    "### Built-in Type Conversion Functions\n",
    "\n",
    "| Function\t| Description |\n",
    "|-----------|-------------|\n",
    "| ascii()\t| Returns a string containing a printable representation of an object |\n",
    "| bin()\t| Converts an integer to a binary string |\n",
    "| bool()\t| Converts an argument to a Boolean value |\n",
    "| callable() | Returns whether the object is callable (i.e., some kind of function)\n",
    "| chr()\t| Returns string representation of character given by integer argument |\n",
    "| complex()\t| Returns a complex number constructed from arguments |\n",
    "| float()\t| Returns a floating-point object constructed from a number or string |\n",
    "| hex()\t| Converts an integer to a hexadecimal string |\n",
    "| int()\t| Returns an integer object constructed from a number or string |\n",
    "| oct()\t| Converts an integer to an octal string |\n",
    "| ord()\t| Returns integer representation of a character |\n",
    "| repr()\t| Returns a string containing a printable representation of an object |\n",
    "| str()\t| Returns a string version of an object |\n",
    "| type()\t| Returns the type of an object or creates a new type object |"
   ]
  },
  {
   "cell_type": "markdown",
   "metadata": {
    "slideshow": {
     "slide_type": "slide"
    }
   },
   "source": [
    "## Modules\n",
    "\n",
    "- Python module is a normal python file which can store function, variable, classes, constants etc\n",
    "- Module helps us to organize related codes \n",
    "- Popular modules\n",
    "   * math\n",
    "   * numpy\n",
    "   * scipy\n",
    "   * matplotlib\n",
    "   * pandas\n",
    "   * mpi4py"
   ]
  },
  {
   "cell_type": "markdown",
   "metadata": {
    "slideshow": {
     "slide_type": "subslide"
    }
   },
   "source": [
    "### Creating modules\n",
    "\n",
    "- Create a new file called _mymodule.py_ and write the following code."
   ]
  },
  {
   "cell_type": "code",
   "execution_count": null,
   "metadata": {},
   "outputs": [],
   "source": [
    "!cat mymodule.py"
   ]
  },
  {
   "cell_type": "markdown",
   "metadata": {},
   "source": [
    "- This module defines a global variable _foo_ and a function _hello_\n",
    "- To use this module in a program, you need to **import** the module"
   ]
  },
  {
   "cell_type": "code",
   "execution_count": null,
   "metadata": {},
   "outputs": [],
   "source": [
    "import mymodule"
   ]
  },
  {
   "cell_type": "code",
   "execution_count": null,
   "metadata": {},
   "outputs": [],
   "source": [
    "mymodule.foo"
   ]
  },
  {
   "cell_type": "code",
   "execution_count": null,
   "metadata": {
    "slideshow": {
     "slide_type": "subslide"
    }
   },
   "outputs": [],
   "source": [
    "mymodule.hello()"
   ]
  },
  {
   "cell_type": "markdown",
   "metadata": {},
   "source": [
    "- If you only need to import a variable or function, then use **from** with **import**"
   ]
  },
  {
   "cell_type": "code",
   "execution_count": null,
   "metadata": {},
   "outputs": [],
   "source": [
    "from mymodule import hello\n",
    "hello()"
   ]
  },
  {
   "cell_type": "markdown",
   "metadata": {},
   "source": [
    "- You can also abbreviate the module name by adding **as** to the **import**"
   ]
  },
  {
   "cell_type": "code",
   "execution_count": null,
   "metadata": {},
   "outputs": [],
   "source": [
    "import mymodule as my\n",
    "my.foo"
   ]
  },
  {
   "cell_type": "markdown",
   "metadata": {
    "slideshow": {
     "slide_type": "subslide"
    }
   },
   "source": [
    "\n",
    "### Math\n",
    "\n",
    "- The math module that provides most of the familiar mathematical functions\n",
    "\n",
    "| Function | Description |\n",
    "|----------|-------------|\n",
    "| abs()\t| Returns absolute value of a number |\n",
    "| divmod()\t| Returns quotient and remainder of integer division |\n",
    "| max()\t| Returns the largest of the given arguments or items in an iterable |\n",
    "| min()\t| Returns the smallest of the given arguments or items in an iterable |\n",
    "| pow()\t| Raises a number to a power |\n",
    "| round()\t| Rounds a floating-point value |\n",
    "| sum()\t| Sums the items of an iterable |\n",
    "\n",
    "- A **module** is a file that contains a collection of related functions\n",
    "- Before we can use the module, we have to import it"
   ]
  },
  {
   "cell_type": "code",
   "execution_count": null,
   "metadata": {
    "slideshow": {
     "slide_type": "subslide"
    }
   },
   "outputs": [],
   "source": [
    "import math\n"
   ]
  },
  {
   "cell_type": "markdown",
   "metadata": {},
   "source": [
    "- This statement creates a **module object** named *math*\n",
    "- If you print the module object, you get some information about it"
   ]
  },
  {
   "cell_type": "code",
   "execution_count": null,
   "metadata": {},
   "outputs": [],
   "source": [
    "print(math)"
   ]
  },
  {
   "cell_type": "markdown",
   "metadata": {},
   "source": [
    "- The module object contains the functions and variables defined in the module\n",
    "- To access one of the functions, you have to specify the name of the module and the name of the function, separated by a dot (also known as a period)\n",
    "- This format is called **dot notation**\n",
    "\n"
   ]
  },
  {
   "cell_type": "code",
   "execution_count": null,
   "metadata": {},
   "outputs": [],
   "source": [
    "degrees = 45\n",
    "radians = degrees / 360.0 * 2 * math.pi\n",
    "math.sin(radians)"
   ]
  },
  {
   "cell_type": "markdown",
   "metadata": {
    "slideshow": {
     "slide_type": "subslide"
    }
   },
   "source": [
    "### Iterables and Iterators\n",
    "\n",
    "| Function\t| Description |\n",
    "|-----------|-------------|\n",
    "| all() | Returns True if all elements of an iterable are true |\n",
    "| any() | Returns True if any elements of an iterable are true |\n",
    "| enumerate() | Returns a list of tuples containing indices and values from an iterable |\n",
    "| filter() | Filters elements from an iterable |\n",
    "| iter() | Returns an iterator object |\n",
    "| len() | Returns the length of an object |\n",
    "| map() | Applies a function to every item of an iterable |\n",
    "| next() | Retrieves the next item from an iterator |\n",
    "| range() | Generates a range of integer values |\n",
    "| reversed() | Returns a reverse iterator |\n",
    "| slice() | Returns a slice object |\n",
    "| sorted() | Returns a sorted list from an iterable |\n",
    "| zip() | Creates an iterator that aggregates elements from iterables |"
   ]
  },
  {
   "cell_type": "markdown",
   "metadata": {
    "slideshow": {
     "slide_type": "slide"
    }
   },
   "source": [
    "##  Data Types\n",
    "\n",
    "\n",
    "Python has 5 Data types\n",
    "\n",
    "<ol>\n",
    "  <li> Numbers\n",
    "  <ol>\n",
    "     <li> Integers</li>\n",
    "     <li> Floating Point Numbers</li> \n",
    "     <li> Complex Numbers</li>\n",
    "  </ol></li>\n",
    "<li> Strings</li>\n",
    "<li> Lists</li>\n",
    "<li> Dictionaries</li>\n",
    "<li> Tuples</li>\n",
    "<li> Boolean</li>\n",
    "</ol>\n",
    "\n"
   ]
  },
  {
   "cell_type": "markdown",
   "metadata": {
    "slideshow": {
     "slide_type": "subslide"
    }
   },
   "source": [
    "### Integers\n",
    "\n",
    "- There is effectively no limit to how long an integer value can be\n",
    "- You are constrained by the amount of memory your system"
   ]
  },
  {
   "cell_type": "code",
   "execution_count": null,
   "metadata": {},
   "outputs": [],
   "source": [
    "print(123123123123123123123123123123123123123123123123 + 1)"
   ]
  },
  {
   "cell_type": "markdown",
   "metadata": {},
   "source": [
    "- Python interprets a sequence of decimal digits without any prefix to be a decimal number:"
   ]
  },
  {
   "cell_type": "code",
   "execution_count": null,
   "metadata": {},
   "outputs": [],
   "source": [
    "print(10)\n",
    "print(0o10)\n",
    "print(0b10)"
   ]
  },
  {
   "cell_type": "markdown",
   "metadata": {
    "slideshow": {
     "slide_type": "subslide"
    }
   },
   "source": [
    "- Add a prefix to an integer value to indicate a base other than 10:\n",
    "\n",
    "| Prefix | Interpretation | Base |\n",
    "|:------:|:--------------:|:----:|\n",
    "| 0b | Binary | 2 |\n",
    "| 0o | Octal  | 8 |\n",
    "| 0x | Hexadecimal | 16 |\n",
    "\n",
    "- The underlying type of a Python integer, irrespective of the base used to specify it, is called int"
   ]
  },
  {
   "cell_type": "code",
   "execution_count": null,
   "metadata": {},
   "outputs": [],
   "source": [
    "type(10)"
   ]
  },
  {
   "cell_type": "code",
   "execution_count": null,
   "metadata": {},
   "outputs": [],
   "source": [
    "type(0o10)"
   ]
  },
  {
   "cell_type": "code",
   "execution_count": null,
   "metadata": {},
   "outputs": [],
   "source": [
    "type(0x10)"
   ]
  },
  {
   "cell_type": "markdown",
   "metadata": {
    "slideshow": {
     "slide_type": "subslide"
    }
   },
   "source": [
    "### Floating Point Number\n",
    "\n",
    "- The *float* type in Python designates a floating-point number. \n",
    "- *float* values are specified with a decimal point. \n",
    "- Optionally, the character e or E followed by a positive or negative integer may be appended to specify scientific notation"
   ]
  },
  {
   "cell_type": "code",
   "execution_count": null,
   "metadata": {},
   "outputs": [],
   "source": [
    "4.2"
   ]
  },
  {
   "cell_type": "code",
   "execution_count": null,
   "metadata": {},
   "outputs": [],
   "source": [
    "type(0.2)"
   ]
  },
  {
   "cell_type": "code",
   "execution_count": null,
   "metadata": {},
   "outputs": [],
   "source": [
    "type(.4e7)"
   ]
  },
  {
   "cell_type": "code",
   "execution_count": null,
   "metadata": {},
   "outputs": [],
   "source": [
    "4.2e-4"
   ]
  },
  {
   "cell_type": "markdown",
   "metadata": {
    "slideshow": {
     "slide_type": "subslide"
    }
   },
   "source": [
    "### Floating-Point Representation\n",
    "\n",
    "* For 64-bit systems, the maximum value a floating-point number can have is approximately $1.8 \\times 10^{308}$\n",
    "* Python will indicate a number greater than that by the string *inf* "
   ]
  },
  {
   "cell_type": "code",
   "execution_count": null,
   "metadata": {},
   "outputs": [],
   "source": [
    "1.79e308"
   ]
  },
  {
   "cell_type": "code",
   "execution_count": null,
   "metadata": {},
   "outputs": [],
   "source": [
    "1.8e+308"
   ]
  },
  {
   "cell_type": "markdown",
   "metadata": {
    "slideshow": {
     "slide_type": "subslide"
    }
   },
   "source": [
    "* The closest a nonzero number can be to zero is approximately $5.0 \\times 10^{-324}$\n",
    "* Anything closer to zero than that is effectively zero"
   ]
  },
  {
   "cell_type": "code",
   "execution_count": null,
   "metadata": {},
   "outputs": [],
   "source": [
    "5e-324"
   ]
  },
  {
   "cell_type": "code",
   "execution_count": null,
   "metadata": {},
   "outputs": [],
   "source": [
    "2e-324"
   ]
  },
  {
   "cell_type": "markdown",
   "metadata": {
    "slideshow": {
     "slide_type": "subslide"
    }
   },
   "source": [
    "- Floating point numbers are represented internally as binary (base-2) fractions\n",
    "- Most decimal fractions cannot be represented exactly as binary fractions, so in most cases the internal representation of a floating-point number is an approximation of the actual value\n",
    "- In practice, the difference between the actual value and the represented value is very small and should not usually cause significant problems"
   ]
  },
  {
   "cell_type": "code",
   "execution_count": null,
   "metadata": {},
   "outputs": [],
   "source": [
    "0.5 - 0.4 - 0.1"
   ]
  },
  {
   "cell_type": "markdown",
   "metadata": {},
   "source": [
    "- You can convert between an *int* and *float* types using built-in functions"
   ]
  },
  {
   "cell_type": "code",
   "execution_count": null,
   "metadata": {},
   "outputs": [],
   "source": [
    "int(4.2)"
   ]
  },
  {
   "cell_type": "code",
   "execution_count": null,
   "metadata": {},
   "outputs": [],
   "source": [
    "float(15)"
   ]
  },
  {
   "cell_type": "markdown",
   "metadata": {
    "slideshow": {
     "slide_type": "subslide"
    }
   },
   "source": [
    "### Complex Numbers\n",
    "\n",
    "- Complex numbers are specified as *(real part)+(imaginary part)*j. For example:"
   ]
  },
  {
   "cell_type": "code",
   "execution_count": null,
   "metadata": {},
   "outputs": [],
   "source": [
    "a = 2 + 3j\n",
    "type(a)"
   ]
  },
  {
   "cell_type": "code",
   "execution_count": null,
   "metadata": {},
   "outputs": [],
   "source": [
    "print(a.real, a.imag)"
   ]
  },
  {
   "cell_type": "code",
   "execution_count": null,
   "metadata": {},
   "outputs": [],
   "source": [
    "a*a"
   ]
  },
  {
   "cell_type": "code",
   "execution_count": null,
   "metadata": {},
   "outputs": [],
   "source": [
    "a*a.conjugate()"
   ]
  },
  {
   "cell_type": "markdown",
   "metadata": {
    "slideshow": {
     "slide_type": "slide"
    }
   },
   "source": [
    "### Strings\n",
    "\n",
    "\n",
    "- Strings are sequences of character data. The string type in Python is called *str*.\n",
    "- String literals may be delimited using either single or double quotes. \n",
    "    * All the characters between the opening delimiter and matching closing delimiter are part of the string:"
   ]
  },
  {
   "cell_type": "code",
   "execution_count": null,
   "metadata": {},
   "outputs": [],
   "source": [
    "print(\"I am a string.\")"
   ]
  },
  {
   "cell_type": "code",
   "execution_count": null,
   "metadata": {},
   "outputs": [],
   "source": [
    "type(\"I am a string.\")"
   ]
  },
  {
   "cell_type": "code",
   "execution_count": null,
   "metadata": {},
   "outputs": [],
   "source": [
    "print('I am too.')"
   ]
  },
  {
   "cell_type": "code",
   "execution_count": null,
   "metadata": {},
   "outputs": [],
   "source": [
    "type('I am too.')"
   ]
  },
  {
   "cell_type": "markdown",
   "metadata": {
    "slideshow": {
     "slide_type": "subslide"
    }
   },
   "source": [
    "- A string in Python can contain as many characters as you wish. \n",
    "   * The only limit is your machine’s memory resources. \n",
    "- A string can also be empty:"
   ]
  },
  {
   "cell_type": "code",
   "execution_count": null,
   "metadata": {},
   "outputs": [],
   "source": [
    "''"
   ]
  },
  {
   "cell_type": "markdown",
   "metadata": {},
   "source": [
    "- If you want to include either type of quote character within the string, the simplest way is to delimit the string with the other type. \n",
    "   * If a string is to contain a single quote, delimit it with double quotes and vice versa"
   ]
  },
  {
   "cell_type": "code",
   "execution_count": null,
   "metadata": {},
   "outputs": [],
   "source": [
    "print(\"This string contains a single quote (') character.\")\n",
    "print('This string contains a double quote (\") character.')"
   ]
  },
  {
   "cell_type": "markdown",
   "metadata": {
    "slideshow": {
     "slide_type": "subslide"
    }
   },
   "source": [
    "- Alternatively, escape the quote character using a backslah"
   ]
  },
  {
   "cell_type": "code",
   "execution_count": null,
   "metadata": {},
   "outputs": [],
   "source": [
    "print('This string contains a single quote (\\') character.')\n",
    "print(\"This string contains a double quote (\\\") character.\")"
   ]
  },
  {
   "cell_type": "markdown",
   "metadata": {},
   "source": [
    "- Escape sequences\n",
    "\n",
    "| Escape Sequence | Escaped Interpretation |\n",
    "|-----------------|------------------------|\n",
    "| \\' | Literal single quote (') character |\n",
    "| \\\" | Literal double quote (\") character |\n",
    "| \\newline | Newline is ignored |\n",
    "| \\\\\\ | Literal backslash (\\) character |\n",
    "| \\n | ASCII Linefeed (LF) character |\n",
    "| \\r | ASCII Carriage Return (CR) character |\n",
    "| \\t | ASCII Horizontal Tab (TAB) character |\n",
    "| \\v | ASCII Vertical Tab (VT) character |\n"
   ]
  },
  {
   "cell_type": "markdown",
   "metadata": {
    "slideshow": {
     "slide_type": "subslide"
    }
   },
   "source": [
    "#### Interactive Python - User Input\n",
    "\n",
    "- To interact with standard input, the *input* function can be assigned to a string variable\n",
    "- Modify your *myscript.py* file to ask for your name or anyone's name interactively "
   ]
  },
  {
   "cell_type": "code",
   "execution_count": null,
   "metadata": {},
   "outputs": [],
   "source": [
    "# To run example within Jupyter Notebook or IPython or Python Shell\n",
    "name = input (\"What is your name? \")\n",
    "print(\"Hello \",name)"
   ]
  },
  {
   "cell_type": "markdown",
   "metadata": {},
   "source": [
    "- You need to use built-in functions, *int* or *float* to read integer or floating numbers from standard input"
   ]
  },
  {
   "cell_type": "markdown",
   "metadata": {
    "slideshow": {
     "slide_type": "subslide"
    }
   },
   "source": [
    "#### Triple Quoted Strings\n",
    "\n",
    "- Triple-quoted strings are delimited by matching groups of three single quotes or three double quotes. \n",
    "- Escape sequences still work in triple-quoted strings, but single quotes, double quotes, and newlines can be included without escaping them. \n",
    "- This provides a convenient way to create a string with both single and double quotes in it"
   ]
  },
  {
   "cell_type": "code",
   "execution_count": null,
   "metadata": {},
   "outputs": [],
   "source": [
    "print('''This string has a single (') and a double (\") quote.''')"
   ]
  },
  {
   "cell_type": "markdown",
   "metadata": {},
   "source": [
    "- Because newlines can be included without escaping them, this also allows for multiline strings:"
   ]
  },
  {
   "cell_type": "code",
   "execution_count": null,
   "metadata": {},
   "outputs": [],
   "source": [
    "print(\"\"\"This is a\n",
    "string that spans\n",
    "across several lines\"\"\")"
   ]
  },
  {
   "cell_type": "markdown",
   "metadata": {
    "slideshow": {
     "slide_type": "subslide"
    }
   },
   "source": [
    "### String Operations\n",
    "\n",
    "- Python strings are immutable i.e. once a string is created it can’t be modified"
   ]
  },
  {
   "cell_type": "code",
   "execution_count": null,
   "metadata": {},
   "outputs": [],
   "source": [
    "str1=\"Hello\"\n",
    "str2=\"Hello\"\n",
    "print(id(str1),id(str2))"
   ]
  },
  {
   "cell_type": "markdown",
   "metadata": {},
   "source": [
    "- *str1* and *str2* both refer to the same memory location\n",
    "- If you modify *str1*, it creates a new object at a different memory location"
   ]
  },
  {
   "cell_type": "code",
   "execution_count": null,
   "metadata": {},
   "outputs": [],
   "source": [
    "str1+=\", Welcome to LTS Seminars\"\n",
    "print(str1,id(str1),id(str2))"
   ]
  },
  {
   "cell_type": "markdown",
   "metadata": {
    "slideshow": {
     "slide_type": "subslide"
    }
   },
   "source": [
    "- Every element of a string can be referenced by their index (first index is 0)"
   ]
  },
  {
   "cell_type": "code",
   "execution_count": null,
   "metadata": {},
   "outputs": [],
   "source": [
    "str1[0]"
   ]
  },
  {
   "cell_type": "markdown",
   "metadata": {},
   "source": [
    "- _+_  operator is used to concatenate string and _*_ operator is a repetition operator for string."
   ]
  },
  {
   "cell_type": "code",
   "execution_count": null,
   "metadata": {},
   "outputs": [],
   "source": [
    "s = \"So, you want to learn Python? \" * 4\n",
    "print(s)"
   ]
  },
  {
   "cell_type": "markdown",
   "metadata": {
    "slideshow": {
     "slide_type": "subslide"
    }
   },
   "source": [
    "- You can take subset of string from original string by using [] operator, also known as slicing operator.\n",
    "- <code>s[start:end]</code> will return part of the string starting from index <code>start</code>  to index <code>end - 1</code>"
   ]
  },
  {
   "cell_type": "code",
   "execution_count": null,
   "metadata": {},
   "outputs": [],
   "source": [
    "s[3:15]"
   ]
  },
  {
   "cell_type": "markdown",
   "metadata": {},
   "source": [
    "- <code>start</code> index and <code>end</code> index are optional. \n",
    "- default value of <code>start</code>  index is 0 \n",
    "- default value of <code>end</code> is the last index of the string"
   ]
  },
  {
   "cell_type": "code",
   "execution_count": null,
   "metadata": {},
   "outputs": [],
   "source": [
    "s[:3]"
   ]
  },
  {
   "cell_type": "code",
   "execution_count": null,
   "metadata": {},
   "outputs": [],
   "source": [
    "s[15:]"
   ]
  },
  {
   "cell_type": "code",
   "execution_count": null,
   "metadata": {
    "slideshow": {
     "slide_type": "subslide"
    }
   },
   "outputs": [],
   "source": [
    "s[:]"
   ]
  },
  {
   "cell_type": "markdown",
   "metadata": {},
   "source": [
    "#### String functions\n",
    "\n",
    "- _ord()_: returns the ASCII code of the character.\n",
    "- _chr()_: function returns character represented by a ASCII number.\n",
    "- _len()_: returns length of the string\n",
    "- _max()_: returns character having highest ASCII value\n",
    "- _min()_: returns character having lowest ASCII value"
   ]
  },
  {
   "cell_type": "code",
   "execution_count": null,
   "metadata": {},
   "outputs": [],
   "source": [
    "len(s)"
   ]
  },
  {
   "cell_type": "markdown",
   "metadata": {
    "slideshow": {
     "slide_type": "slide"
    }
   },
   "source": [
    "## Lists\n",
    "\n",
    "- Like a string, a *list* is a sequence of values. \n",
    "- In a string, the values are characters; in a list, they can be any type. \n",
    "- The values in list are called **elements** or sometimes items."
   ]
  },
  {
   "cell_type": "code",
   "execution_count": null,
   "metadata": {},
   "outputs": [],
   "source": [
    "a = [10, 20, 30, 40]\n",
    "print(a)"
   ]
  },
  {
   "cell_type": "markdown",
   "metadata": {},
   "source": [
    "- *lists* can be nested."
   ]
  },
  {
   "cell_type": "code",
   "execution_count": null,
   "metadata": {},
   "outputs": [],
   "source": [
    "b = ['spam', 2.0, 5, [10, 20]]\n",
    "print(b)"
   ]
  },
  {
   "cell_type": "markdown",
   "metadata": {
    "slideshow": {
     "slide_type": "subslide"
    }
   },
   "source": [
    "- An empty list i.e. list with no elements is created with empty brackets []."
   ]
  },
  {
   "cell_type": "code",
   "execution_count": null,
   "metadata": {},
   "outputs": [],
   "source": [
    "c=[]\n",
    "print(c)"
   ]
  },
  {
   "cell_type": "markdown",
   "metadata": {
    "slideshow": {
     "slide_type": "-"
    }
   },
   "source": [
    "- Lists are mutable i.e. they can be modified after creation"
   ]
  },
  {
   "cell_type": "code",
   "execution_count": null,
   "metadata": {},
   "outputs": [],
   "source": [
    "numbers = [17, 123]\n",
    "print(numbers,id(numbers))"
   ]
  },
  {
   "cell_type": "code",
   "execution_count": null,
   "metadata": {},
   "outputs": [],
   "source": [
    "numbers[0] = 5\n",
    "print(numbers,id(numbers))"
   ]
  },
  {
   "cell_type": "markdown",
   "metadata": {
    "slideshow": {
     "slide_type": "subslide"
    }
   },
   "source": [
    "- The + operator concatenates lists:"
   ]
  },
  {
   "cell_type": "code",
   "execution_count": null,
   "metadata": {
    "slideshow": {
     "slide_type": "-"
    }
   },
   "outputs": [],
   "source": [
    "a = [1, 2, 3]\n",
    "b = [4, 5, 6]\n",
    "c = a + b\n",
    "print(c)"
   ]
  },
  {
   "cell_type": "markdown",
   "metadata": {
    "slideshow": {
     "slide_type": "-"
    }
   },
   "source": [
    "- You can reference a section of the list using a slice operator"
   ]
  },
  {
   "cell_type": "code",
   "execution_count": null,
   "metadata": {
    "slideshow": {
     "slide_type": "-"
    }
   },
   "outputs": [],
   "source": [
    "c[2:5]"
   ]
  },
  {
   "cell_type": "markdown",
   "metadata": {
    "slideshow": {
     "slide_type": "subslide"
    }
   },
   "source": [
    "### list operations\n",
    "\n",
    "- *append* adds a new element to the end of the list"
   ]
  },
  {
   "cell_type": "code",
   "execution_count": null,
   "metadata": {},
   "outputs": [],
   "source": [
    "t1 = ['a', 'b', 'c']\n",
    "t1.append('d')\n",
    "print(t1)"
   ]
  },
  {
   "cell_type": "markdown",
   "metadata": {
    "slideshow": {
     "slide_type": "-"
    }
   },
   "source": [
    "- *extend* takes a list as an argument and appends all of the elements"
   ]
  },
  {
   "cell_type": "code",
   "execution_count": null,
   "metadata": {},
   "outputs": [],
   "source": [
    "t2 = ['e', 'f']\n",
    "t1.extend(t2)\n",
    "print(t1)"
   ]
  },
  {
   "cell_type": "markdown",
   "metadata": {
    "slideshow": {
     "slide_type": "subslide"
    }
   },
   "source": [
    "- *sort* arranges the elements of the list from low to high:"
   ]
  },
  {
   "cell_type": "code",
   "execution_count": null,
   "metadata": {},
   "outputs": [],
   "source": [
    "t = ['d', 'c', 'e', 'b', 'a']\n",
    "t.sort()\n",
    "print(t)"
   ]
  },
  {
   "cell_type": "markdown",
   "metadata": {
    "slideshow": {
     "slide_type": "-"
    }
   },
   "source": [
    "#### deleting list elements\n",
    "\n",
    "- *pop* modifies the list and returns the element that was removed. \n",
    "- If you don’t provide an index, it deletes and returns the last element"
   ]
  },
  {
   "cell_type": "code",
   "execution_count": null,
   "metadata": {},
   "outputs": [],
   "source": [
    "t = ['a', 'b', 'c']\n",
    "x = t.pop(1)\n",
    "print(t)"
   ]
  },
  {
   "cell_type": "code",
   "execution_count": null,
   "metadata": {},
   "outputs": [],
   "source": [
    "print(x)"
   ]
  },
  {
   "cell_type": "markdown",
   "metadata": {
    "slideshow": {
     "slide_type": "subslide"
    }
   },
   "source": [
    "- Use *del* if you do not need the removed value"
   ]
  },
  {
   "cell_type": "code",
   "execution_count": null,
   "metadata": {},
   "outputs": [],
   "source": [
    "t = ['a', 'b', 'c']\n",
    "del t[1]\n",
    "print(t)"
   ]
  },
  {
   "cell_type": "markdown",
   "metadata": {
    "slideshow": {
     "slide_type": "-"
    }
   },
   "source": [
    "- If you know the element you want to remove (but not the index), you can use *remove*"
   ]
  },
  {
   "cell_type": "code",
   "execution_count": null,
   "metadata": {},
   "outputs": [],
   "source": [
    "t = ['a', 'b', 'c', 'd', 'e', 'f']\n",
    "t.remove('b')\n",
    "print(t)"
   ]
  },
  {
   "cell_type": "markdown",
   "metadata": {},
   "source": [
    "- To remove more than one element, you can use *del* with a slice index"
   ]
  },
  {
   "cell_type": "code",
   "execution_count": null,
   "metadata": {},
   "outputs": [],
   "source": [
    "t = ['a', 'b', 'c', 'd', 'e', 'f']\n",
    "del t[1:5]\n",
    "print(t)"
   ]
  },
  {
   "cell_type": "markdown",
   "metadata": {
    "slideshow": {
     "slide_type": "subslide"
    }
   },
   "source": [
    "#### lists and strings\n",
    "\n",
    "- A string is a sequence of characters and a list is a sequence of values\n",
    "- list of characters is not the same as a string. \n",
    "- To convert from a string to a list of characters, you can use *list*"
   ]
  },
  {
   "cell_type": "code",
   "execution_count": null,
   "metadata": {},
   "outputs": [],
   "source": [
    "s = 'spam'\n",
    "t = list(s)\n",
    "print(t)"
   ]
  },
  {
   "cell_type": "markdown",
   "metadata": {},
   "source": [
    "- The *list* function breaks a string into individual letters. \n",
    "- If you want to break a string into words, you can use the *split* method"
   ]
  },
  {
   "cell_type": "code",
   "execution_count": null,
   "metadata": {},
   "outputs": [],
   "source": [
    "s = 'pining for the fjords'\n",
    "t = s.split()\n",
    "print(t)"
   ]
  },
  {
   "cell_type": "markdown",
   "metadata": {
    "slideshow": {
     "slide_type": "subslide"
    }
   },
   "source": [
    "- An optional argument called a **delimiter** specifies which characters to use as word boundaries"
   ]
  },
  {
   "cell_type": "code",
   "execution_count": null,
   "metadata": {},
   "outputs": [],
   "source": [
    "s = 'spam-spam-spam'\n",
    "delimiter = '-'\n",
    "s.split(delimiter)"
   ]
  },
  {
   "cell_type": "markdown",
   "metadata": {},
   "source": [
    "- *join* is the inverse of *split*. \n",
    "- It takes a list of strings and concatenates the elements. \n",
    "- *join* is a string method, so you have to invoke it on the delimiter and pass the list as a parameter"
   ]
  },
  {
   "cell_type": "code",
   "execution_count": null,
   "metadata": {},
   "outputs": [],
   "source": [
    "t = ['pining', 'for', 'the', 'fjords']\n",
    "delimiter = ':'\n",
    "delimiter.join(t)"
   ]
  },
  {
   "cell_type": "markdown",
   "metadata": {
    "slideshow": {
     "slide_type": "slide"
    }
   },
   "source": [
    "## Dictionaries\n",
    "\n",
    "- A *dictionary* is a mapping between a set of indices (which are called **keys**) and a set of **values**. \n",
    "- Each key maps to a value. \n",
    "- The association of a key and a value is called a **key-value pair**\n",
    "- The function *dict* creates a new dictionary with no items"
   ]
  },
  {
   "cell_type": "code",
   "execution_count": null,
   "metadata": {},
   "outputs": [],
   "source": [
    "eng2sp = dict()\n",
    "print(eng2sp)"
   ]
  },
  {
   "cell_type": "markdown",
   "metadata": {},
   "source": [
    "- To add items to the dictionary, you can use square brackets"
   ]
  },
  {
   "cell_type": "code",
   "execution_count": null,
   "metadata": {},
   "outputs": [],
   "source": [
    "eng2sp['one'] = 'uno'\n",
    "print(eng2sp)"
   ]
  },
  {
   "cell_type": "markdown",
   "metadata": {
    "slideshow": {
     "slide_type": "subslide"
    }
   },
   "source": [
    "- You can update a dictionary by adding a new entry or a key-value pair"
   ]
  },
  {
   "cell_type": "code",
   "execution_count": null,
   "metadata": {},
   "outputs": [],
   "source": [
    "eng2sp['two'] = 'dos'\n",
    "print(eng2sp)"
   ]
  },
  {
   "cell_type": "markdown",
   "metadata": {
    "slideshow": {
     "slide_type": "-"
    }
   },
   "source": [
    "- You can create a dictionary as follows"
   ]
  },
  {
   "cell_type": "code",
   "execution_count": null,
   "metadata": {},
   "outputs": [],
   "source": [
    "eng2sp = {'one': 'uno', 'two': 'dos', 'three': 'tres'}\n",
    "print(eng2sp)"
   ]
  },
  {
   "cell_type": "markdown",
   "metadata": {
    "slideshow": {
     "slide_type": "-"
    }
   },
   "source": [
    "- the order of items in a dictionary is unpredictable\n",
    "- use *keys* to look up the corresponding *value*"
   ]
  },
  {
   "cell_type": "code",
   "execution_count": null,
   "metadata": {
    "slideshow": {
     "slide_type": "subslide"
    }
   },
   "outputs": [],
   "source": [
    "print(eng2sp['three'])"
   ]
  },
  {
   "cell_type": "markdown",
   "metadata": {},
   "source": [
    "- To delete entries in a dictionary, use *del*"
   ]
  },
  {
   "cell_type": "code",
   "execution_count": null,
   "metadata": {},
   "outputs": [],
   "source": [
    "del eng2sp['two']\n",
    "print(eng2sp)"
   ]
  },
  {
   "cell_type": "markdown",
   "metadata": {},
   "source": [
    "- The *clear()* function is used to remove all elements of the dictionary"
   ]
  },
  {
   "cell_type": "code",
   "execution_count": null,
   "metadata": {},
   "outputs": [],
   "source": [
    "eng2sp.clear()\n",
    "print(eng2sp)"
   ]
  },
  {
   "cell_type": "markdown",
   "metadata": {
    "slideshow": {
     "slide_type": "-"
    }
   },
   "source": [
    "- The *len* function returns the number of key-value pairs"
   ]
  },
  {
   "cell_type": "code",
   "execution_count": null,
   "metadata": {},
   "outputs": [],
   "source": [
    "eng2sp = {'one': 'uno', 'two': 'dos', 'three': 'tres'}\n",
    "len(eng2sp)"
   ]
  },
  {
   "cell_type": "markdown",
   "metadata": {
    "slideshow": {
     "slide_type": "slide"
    }
   },
   "source": [
    "## Tuples\n",
    "\n",
    "- A *tuple* is a sequence of values\n",
    "- The values can be any type, and they are indexed by integers. \n"
   ]
  },
  {
   "cell_type": "code",
   "execution_count": null,
   "metadata": {},
   "outputs": [],
   "source": [
    "t = ('a', 'b', 'c', 'd', 'e')"
   ]
  },
  {
   "cell_type": "markdown",
   "metadata": {},
   "source": [
    "- To create a tuple with a single element, you have to include the final comma"
   ]
  },
  {
   "cell_type": "code",
   "execution_count": null,
   "metadata": {},
   "outputs": [],
   "source": [
    "t1 = ('a',)\n",
    "type(t1)"
   ]
  },
  {
   "cell_type": "code",
   "execution_count": null,
   "metadata": {},
   "outputs": [],
   "source": [
    "t2 = ('a')\n",
    "type(t2)"
   ]
  },
  {
   "cell_type": "markdown",
   "metadata": {
    "slideshow": {
     "slide_type": "subslide"
    }
   },
   "source": [
    "- Another way to create a tuple is the built-in function *tuple*. \n",
    "- With no argument, it creates an empty tuple"
   ]
  },
  {
   "cell_type": "code",
   "execution_count": null,
   "metadata": {},
   "outputs": [],
   "source": [
    "t = tuple()\n",
    "print(t)"
   ]
  },
  {
   "cell_type": "markdown",
   "metadata": {},
   "source": [
    "- If the argument is a sequence (string, list or tuple), the result is a tuple with the elements of the sequence"
   ]
  },
  {
   "cell_type": "code",
   "execution_count": null,
   "metadata": {},
   "outputs": [],
   "source": [
    "t = tuple('lupins')\n",
    "print(t)"
   ]
  },
  {
   "cell_type": "markdown",
   "metadata": {},
   "source": [
    "- Most list operators also work on tuples. The bracket operator indexes an element"
   ]
  },
  {
   "cell_type": "code",
   "execution_count": null,
   "metadata": {},
   "outputs": [],
   "source": [
    "t = ('a', 'b', 'c', 'd', 'e')\n",
    "print(t[1])"
   ]
  },
  {
   "cell_type": "markdown",
   "metadata": {
    "slideshow": {
     "slide_type": "subslide"
    }
   },
   "source": [
    "- slice operator selects a range of elements"
   ]
  },
  {
   "cell_type": "code",
   "execution_count": null,
   "metadata": {},
   "outputs": [],
   "source": [
    "print(t[1:])"
   ]
  },
  {
   "cell_type": "markdown",
   "metadata": {},
   "source": [
    "- Unlike *lists*, *tuples* are immutable"
   ]
  },
  {
   "cell_type": "code",
   "execution_count": null,
   "metadata": {},
   "outputs": [],
   "source": [
    "t[0] = 'A'"
   ]
  },
  {
   "cell_type": "markdown",
   "metadata": {
    "slideshow": {
     "slide_type": "subslide"
    }
   },
   "source": [
    "- You can’t modify the elements of a tuple, but you can replace one tuple with another"
   ]
  },
  {
   "cell_type": "code",
   "execution_count": null,
   "metadata": {},
   "outputs": [],
   "source": [
    "print(t,id(t))\n",
    "t = ('A',) + t[1:]\n",
    "print(t,id(t))"
   ]
  },
  {
   "cell_type": "markdown",
   "metadata": {
    "slideshow": {
     "slide_type": "subslide"
    }
   },
   "source": [
    "### Assignment\n",
    "\n",
    "- It is often useful to swap the values of two variables using a cumbersome procedure"
   ]
  },
  {
   "cell_type": "code",
   "execution_count": null,
   "metadata": {},
   "outputs": [],
   "source": [
    "a = 1\n",
    "b = 2"
   ]
  },
  {
   "cell_type": "code",
   "execution_count": null,
   "metadata": {},
   "outputs": [],
   "source": [
    "temp = a\n",
    "a = b\n",
    "b = temp\n",
    "print(a,b)"
   ]
  },
  {
   "cell_type": "markdown",
   "metadata": {},
   "source": [
    "- *tuple assignment* is more elegant"
   ]
  },
  {
   "cell_type": "code",
   "execution_count": null,
   "metadata": {},
   "outputs": [],
   "source": [
    "a,b = b,a\n",
    "print(a,b)"
   ]
  },
  {
   "cell_type": "markdown",
   "metadata": {
    "slideshow": {
     "slide_type": "subslide"
    }
   },
   "source": [
    "- The number of variables on the left and the number of values on the right have to be the same"
   ]
  },
  {
   "cell_type": "code",
   "execution_count": null,
   "metadata": {},
   "outputs": [],
   "source": [
    "a, b = 1,2,3"
   ]
  },
  {
   "cell_type": "markdown",
   "metadata": {},
   "source": [
    "- Tuples can be used to return multiple values from a function"
   ]
  },
  {
   "cell_type": "code",
   "execution_count": null,
   "metadata": {},
   "outputs": [],
   "source": [
    "quot, rem = divmod(7, 3)\n",
    "print(quot)"
   ]
  },
  {
   "cell_type": "code",
   "execution_count": null,
   "metadata": {},
   "outputs": [],
   "source": [
    "print(rem)"
   ]
  },
  {
   "cell_type": "markdown",
   "metadata": {
    "slideshow": {
     "slide_type": "slide"
    }
   },
   "source": [
    "### Boolean\n",
    "\n",
    "- Objects of Boolean type may have one of two values, *True* or *False*:"
   ]
  },
  {
   "cell_type": "code",
   "execution_count": null,
   "metadata": {},
   "outputs": [],
   "source": [
    "type(True)"
   ]
  },
  {
   "cell_type": "code",
   "execution_count": null,
   "metadata": {},
   "outputs": [],
   "source": [
    "type(False)"
   ]
  },
  {
   "cell_type": "code",
   "execution_count": null,
   "metadata": {
    "slideshow": {
     "slide_type": "notes"
    }
   },
   "outputs": [],
   "source": [
    "print(\"Max value for exponent %e\" % pow(2,1023))\n",
    "print(\"Max number of decimals %e\" % pow(2,53))"
   ]
  },
  {
   "cell_type": "markdown",
   "metadata": {
    "slideshow": {
     "slide_type": "subslide"
    }
   },
   "source": [
    "### Comparison Operators\n",
    "\n",
    "- Can be used for both numbers and strings\n",
    "- Python compares string lexicographically i.e using ASCII value of the characters"
   ]
  },
  {
   "cell_type": "markdown",
   "metadata": {},
   "source": [
    "| Operator | Meaning | Example |\n",
    "|----------|---------|---------|\n",
    "| == | Equal to | a == b |\n",
    "| != | Not equal to | a != b |\n",
    "| < | Less than | a < b |\n",
    "| <= |Less than or equal to | a <= b |\n",
    "| >\t | Greater than | a > b |\n",
    "| >= | Greater than or equal to | a >= b |"
   ]
  },
  {
   "cell_type": "code",
   "execution_count": null,
   "metadata": {
    "slideshow": {
     "slide_type": "subslide"
    }
   },
   "outputs": [],
   "source": [
    "a = 10\n",
    "b = 20\n",
    "print(a == b)"
   ]
  },
  {
   "cell_type": "code",
   "execution_count": null,
   "metadata": {},
   "outputs": [],
   "source": [
    "c = 'Hi'\n",
    "d = 'hi'\n",
    "print(c == d)\n",
    "print( c < d)\n",
    "print(ord('H'),ord('h'),ord('i'))"
   ]
  },
  {
   "cell_type": "markdown",
   "metadata": {},
   "source": [
    "- Consider two strings 'Hi' and 'HI' for comparison. \n",
    "- The first two characters ( H  and H ) are compared. \n",
    "- Since 'i' has a greater ASCII value (105) than 'I' with ASCII value (73), 'Hi' is greater than 'HI'"
   ]
  },
  {
   "cell_type": "code",
   "execution_count": null,
   "metadata": {},
   "outputs": [],
   "source": [
    "'HI' < 'Hi'"
   ]
  },
  {
   "cell_type": "markdown",
   "metadata": {
    "slideshow": {
     "slide_type": "subslide"
    }
   },
   "source": [
    "### Logical Operators"
   ]
  },
  {
   "cell_type": "markdown",
   "metadata": {},
   "source": [
    "| Operator | Example | Meaning |\n",
    "|----------|---------|---------|\n",
    "| not | not x | True if x is False<br>False if x is True<br>(Logically reverses the sense of x) |\n",
    "| or | x or y | True if either x or y is True<br>False otherwise |\n",
    "| and | x and y | True if both x and y are True<br>False otherwise | "
   ]
  },
  {
   "cell_type": "code",
   "execution_count": null,
   "metadata": {},
   "outputs": [],
   "source": [
    "x = 5\n",
    "not x < 10"
   ]
  },
  {
   "cell_type": "code",
   "execution_count": null,
   "metadata": {},
   "outputs": [],
   "source": [
    "x < 10 or callable(x)"
   ]
  },
  {
   "cell_type": "code",
   "execution_count": null,
   "metadata": {},
   "outputs": [],
   "source": [
    "x < 10 and callable(len)"
   ]
  },
  {
   "cell_type": "markdown",
   "metadata": {
    "slideshow": {
     "slide_type": "subslide"
    }
   },
   "source": [
    "## User Defined Functions\n",
    "\n",
    "- Python allows programmers to define their OWN **function**\n",
    "- A **function definition** specifies the name of a new function and the sequence of statements that execute when the function is called.\n",
    "\n",
    "### Why create your own functions?\n",
    "\n",
    "- Creating a new function gives you an opportunity to name a group of statements, which makes your program easier to read and debug.\n",
    "- Functions can make a program smaller by eliminating repetitive code. Later, if you make a change, you only have to make it in one place.\n",
    "- Dividing a long program into functions allows you to debug the parts one at a time and then assemble them into a working whole.\n",
    "- Well-designed functions are often useful for many programs. Once you write and debug one, you can reuse it."
   ]
  },
  {
   "cell_type": "code",
   "execution_count": null,
   "metadata": {
    "slideshow": {
     "slide_type": "subslide"
    }
   },
   "outputs": [],
   "source": [
    "def celcius_to_fahrenheit(tempc):\n",
    "    tempf = 9.0 / 5.0 * tempc + 32.0\n",
    "    return tempf"
   ]
  },
  {
   "cell_type": "code",
   "execution_count": null,
   "metadata": {},
   "outputs": [],
   "source": [
    "tempc = float(input('Enter Temperature in Celcius: '))\n",
    "\n",
    "print(\"%6.2f C = %6.2f F\" % (tempc, celcius_to_fahrenheit(tempc)))"
   ]
  },
  {
   "cell_type": "markdown",
   "metadata": {
    "slideshow": {
     "slide_type": "-"
    }
   },
   "source": [
    "- When you create a variable inside a function, it is **local**, which means that it only exists inside the function.\n",
    "   - e.g. *tempf* is local within the *celcius_to_fahrenheit* function and does not exist outside the scope of the function\n"
   ]
  },
  {
   "cell_type": "code",
   "execution_count": null,
   "metadata": {},
   "outputs": [],
   "source": [
    "print(tempf)"
   ]
  },
  {
   "cell_type": "markdown",
   "metadata": {
    "slideshow": {
     "slide_type": "slide"
    }
   },
   "source": [
    "## Conditional Execution"
   ]
  },
  {
   "cell_type": "markdown",
   "metadata": {},
   "source": [
    "- **Conditional Statements** gives the programmer an ability to check conditions and change the behavior of the program accordingly.\n",
    "- The simplest form is the if statement:\n",
    "\n",
    "<img src=\"https://www.tutorialspoint.com/python/images/decision_making.jpg\" alt=\"Image Not Found\" onerror=\"this.onerror=null;this.src='decision_making.jpg';\" width=\"30%\" />"
   ]
  },
  {
   "cell_type": "markdown",
   "metadata": {
    "slideshow": {
     "slide_type": "subslide"
    }
   },
   "source": [
    "Syntax:\n",
    "<code>\n",
    "if condition:\n",
    "    statements\n",
    "</code>"
   ]
  },
  {
   "cell_type": "markdown",
   "metadata": {},
   "source": [
    "- The boolean expression after the *if* statement is called the **condition**. \n",
    "   - If it is true, then the indented statement gets executed. \n",
    "   - If not, nothing happens.\n",
    "\n",
    "- _if_ statements have the same structure as function definitions: \n",
    "   * a header followed by an indented block. \n",
    "   * Statements like this are called **compound statements**.\n",
    "\n"
   ]
  },
  {
   "cell_type": "markdown",
   "metadata": {
    "slideshow": {
     "slide_type": "subslide"
    }
   },
   "source": [
    "- There is no limit on the number of statements that can appear in the body, but there has to be at least one. \n",
    "- Occasionally, it is useful to have a body with no statements (usually as a place keeper for code you haven't written yet). \n",
    "- In that case, you can use the _pass_ statement, which does nothing."
   ]
  },
  {
   "cell_type": "code",
   "execution_count": null,
   "metadata": {},
   "outputs": [],
   "source": [
    "if x < 0:\n",
    "    pass"
   ]
  },
  {
   "cell_type": "markdown",
   "metadata": {
    "slideshow": {
     "slide_type": "subslide"
    }
   },
   "source": [
    "- There may be a situation where you want to execute a series of statements if the *condition*\n",
    " is false\n",
    "- Python provides an <code>if ... else ...</code> conditional\n",
    "- Syntax\n",
    "<code>\n",
    "if condition:\n",
    "    statments_1\n",
    "else:\n",
    "    statements_2\n",
    "</code>"
   ]
  },
  {
   "cell_type": "code",
   "execution_count": null,
   "metadata": {},
   "outputs": [],
   "source": [
    "if x % 2 == 0:\n",
    "    print('x is even')\n",
    "else:\n",
    "    print('x is odd')"
   ]
  },
  {
   "cell_type": "markdown",
   "metadata": {
    "slideshow": {
     "slide_type": "subslide"
    }
   },
   "source": [
    "- If the remainder when x is divided by 2 is 0, then we know that x is even, and the program displays a message to that effect. \n",
    "- If the condition is false, the second set of statements is executed. \n",
    "- Since the condition must be true or false, exactly one of the alternatives will be executed. - The alternatives are called __branches__, because they are branches in the flow of execution."
   ]
  },
  {
   "cell_type": "markdown",
   "metadata": {
    "slideshow": {
     "slide_type": "subslide"
    }
   },
   "source": [
    "\n",
    "- Sometimes there are more than two possibilities and we need more than two branches.\n",
    "- Python provides a <code>if ... elif ... else</code> conditional\n",
    "- Syntax\n",
    "<code>\n",
    "if condition1:\n",
    "    statements_1\n",
    "elif condition2:\n",
    "    statements_2\n",
    "else\n",
    "    statements_3\n",
    "</code>    "
   ]
  },
  {
   "cell_type": "code",
   "execution_count": null,
   "metadata": {},
   "outputs": [],
   "source": [
    "y = 10\n",
    "if x < y:\n",
    "    print('x is less than y')\n",
    "elif x > y:\n",
    "    print('x is greater than y')\n",
    "else:\n",
    "    print('x and y are equal')"
   ]
  },
  {
   "cell_type": "markdown",
   "metadata": {
    "slideshow": {
     "slide_type": "subslide"
    }
   },
   "source": [
    "- _elif_ is an abbreviation of “else if.” \n",
    "- Again, exactly one branch will be executed. \n",
    "- There is no limit on the number of _elif_ statements. \n",
    "- If there is an _else_ clause, it has to be at the end, but there doesn’t have to be one."
   ]
  },
  {
   "cell_type": "code",
   "execution_count": null,
   "metadata": {
    "slideshow": {
     "slide_type": "-"
    }
   },
   "outputs": [],
   "source": [
    "choice='d'\n",
    "if choice == 'a':\n",
    "    print('choice is a')\n",
    "elif choice == 'b':\n",
    "    print('choice is b')\n",
    "elif choice == 'c':\n",
    "    print('choice is c')"
   ]
  },
  {
   "cell_type": "markdown",
   "metadata": {},
   "source": [
    "- Each condition is checked in order. \n",
    "- If the first is false, the next is checked, and so on. \n",
    "- If one of them is true, the corresponding branch executes, and the statement ends. \n",
    "- Even if more than one condition is true, only the first true branch executes."
   ]
  },
  {
   "cell_type": "markdown",
   "metadata": {
    "slideshow": {
     "slide_type": "subslide"
    }
   },
   "source": [
    "\n",
    "- Conditional can also be nested within another.\n"
   ]
  },
  {
   "cell_type": "code",
   "execution_count": null,
   "metadata": {},
   "outputs": [],
   "source": [
    "if x == y:\n",
    "    print('x and y are equal')\n",
    "else:\n",
    "    if x < y:\n",
    "        print('x is less than y')\n",
    "    else:\n",
    "        print('x is greater than y')"
   ]
  },
  {
   "cell_type": "markdown",
   "metadata": {},
   "source": [
    "- The outer conditional contains two branches. \n",
    "- The first branch contains a simple statement. \n",
    "- The second branch contains another _if_ statement, which has two branches of its own. \n",
    "- Those two branches are both simple statements, although they could have been conditional statements as well.\n",
    "\n"
   ]
  },
  {
   "cell_type": "markdown",
   "metadata": {
    "slideshow": {
     "slide_type": "subslide"
    }
   },
   "source": [
    "- Logical operators often provide a way to simplify nested conditional statements. "
   ]
  },
  {
   "cell_type": "code",
   "execution_count": null,
   "metadata": {},
   "outputs": [],
   "source": [
    "if 0 < x:\n",
    "    if x < 10:\n",
    "        print('x is a positive single-digit number.')"
   ]
  },
  {
   "cell_type": "markdown",
   "metadata": {},
   "source": [
    "- The _print_ statement is executed only if we make it past both conditionals\n",
    "- we can get the same effect with the _and_ operator"
   ]
  },
  {
   "cell_type": "code",
   "execution_count": null,
   "metadata": {},
   "outputs": [],
   "source": [
    "if 0 < x and x < 10:\n",
    "    print('x is a positive single-digit number.')\n"
   ]
  },
  {
   "cell_type": "markdown",
   "metadata": {
    "slideshow": {
     "slide_type": "subslide"
    }
   },
   "source": [
    "### Control Statements\n",
    "\n",
    "Python provides three control statements that can be used within conditionals and loops\n",
    "\n",
    "\n",
    "1. **break**: Terminates the loop statement and transfers execution to the statement immediately following the loop\n",
    "2. **continue**: Causes the loop to skip the remainder of its body and immediately retest its condition prior to reiterating.\n",
    "3. **pass**: The pass statement is used when a statement is required syntactically but you do not want any command or code to execute."
   ]
  },
  {
   "cell_type": "markdown",
   "metadata": {
    "slideshow": {
     "slide_type": "subslide"
    }
   },
   "source": [
    "### Recursion\n",
    "\n",
    "- Python functions can call itself recursively"
   ]
  },
  {
   "cell_type": "code",
   "execution_count": null,
   "metadata": {},
   "outputs": [],
   "source": [
    "def factorial(n):\n",
    "    if n < 1:\n",
    "        return 1\n",
    "    else:\n",
    "         return n*factorial(n-1)\n"
   ]
  },
  {
   "cell_type": "code",
   "execution_count": null,
   "metadata": {},
   "outputs": [],
   "source": [
    "factorial(5)"
   ]
  },
  {
   "cell_type": "code",
   "execution_count": null,
   "metadata": {},
   "outputs": [],
   "source": [
    "def double_fact(n):\n",
    "    if n < 2:\n",
    "        return 1\n",
    "    else:\n",
    "        return n * double_fact(n - 2)"
   ]
  },
  {
   "cell_type": "code",
   "execution_count": null,
   "metadata": {},
   "outputs": [],
   "source": [
    "double_fact(10)"
   ]
  },
  {
   "cell_type": "markdown",
   "metadata": {
    "slideshow": {
     "slide_type": "slide"
    }
   },
   "source": [
    "## Loops\n",
    "\n",
    "- There may be a situation when you need to execute a block of code a number of times.\n",
    "\n",
    "- A loop statement allows us to execute a statement or group of statements multiple times.\n",
    "\n",
    "<img src=\"https://www.tutorialspoint.com/python/images/loop_architecture.jpg\" alt=\"Image Not Found\" onerror=\"this.onerror=null;this.src='loop_architecture.jpg';\" width=\"30%\" />"
   ]
  },
  {
   "cell_type": "markdown",
   "metadata": {
    "slideshow": {
     "slide_type": "subslide"
    }
   },
   "source": [
    "### for loops\n",
    "\n",
    "- The *for* statement has the ability to iterate over the items of any sequence, such as a list or a string \n",
    "- If a sequence contains an expression list, it is evaluated first. \n",
    "- Then, the first item in the sequence is assigned to the iterating variable iterating_var. \n",
    "- Next, the statements block is executed. \n",
    "- Each item in the list is assigned to iterating_var, and the statement(s) block is executed until the entire sequence is exhausted.\n",
    "\n",
    "<code>\n",
    "for iterating_var in sequence:\n",
    "   statements(s)\n",
    "</code>"
   ]
  },
  {
   "cell_type": "code",
   "execution_count": null,
   "metadata": {
    "slideshow": {
     "slide_type": "subslide"
    }
   },
   "outputs": [],
   "source": [
    "for letter in 'Hola': \n",
    "   print('Current Letter :', letter)"
   ]
  },
  {
   "cell_type": "code",
   "execution_count": null,
   "metadata": {
    "slideshow": {
     "slide_type": "-"
    }
   },
   "outputs": [],
   "source": [
    "fruits = ['banana', 'apple',  'mango']\n",
    "for fruit in fruits: \n",
    "   print ('Current fruit :', fruit)\n"
   ]
  },
  {
   "cell_type": "markdown",
   "metadata": {
    "slideshow": {
     "slide_type": "-"
    }
   },
   "source": [
    "- An alternative way of iterating through each item is by index offset into the sequence itself"
   ]
  },
  {
   "cell_type": "code",
   "execution_count": null,
   "metadata": {},
   "outputs": [],
   "source": [
    "fruits = [0,1,2,3,4]\n",
    "for index in range(len(fruits)):\n",
    "   print ('Current fruit :', fruits[index])"
   ]
  },
  {
   "cell_type": "markdown",
   "metadata": {
    "slideshow": {
     "slide_type": "subslide"
    }
   },
   "source": [
    "#### range function\n",
    "\n",
    "- The built-in function *range()* iterates over a sequence of numbers."
   ]
  },
  {
   "cell_type": "code",
   "execution_count": null,
   "metadata": {},
   "outputs": [],
   "source": [
    "range(5)"
   ]
  },
  {
   "cell_type": "code",
   "execution_count": null,
   "metadata": {},
   "outputs": [],
   "source": [
    "list(range(5))"
   ]
  },
  {
   "cell_type": "code",
   "execution_count": null,
   "metadata": {},
   "outputs": [],
   "source": [
    "for var in list(range(5)):\n",
    "    print(var)"
   ]
  },
  {
   "cell_type": "markdown",
   "metadata": {
    "slideshow": {
     "slide_type": "subslide"
    }
   },
   "source": [
    "- You can loop through keys or values by using the *keys* and *values* functions"
   ]
  },
  {
   "cell_type": "code",
   "execution_count": null,
   "metadata": {
    "slideshow": {
     "slide_type": "-"
    }
   },
   "outputs": [],
   "source": [
    "for keys in eng2sp.keys():\n",
    "    print(keys)"
   ]
  },
  {
   "cell_type": "code",
   "execution_count": null,
   "metadata": {
    "slideshow": {
     "slide_type": "-"
    }
   },
   "outputs": [],
   "source": [
    "for vals in eng2sp.values():\n",
    "    print(vals)"
   ]
  },
  {
   "cell_type": "markdown",
   "metadata": {
    "slideshow": {
     "slide_type": "subslide"
    }
   },
   "source": [
    "### while loop\n",
    "\n",
    "- A *while* loop statement repeatedly executes a target statement as long as a given condition is true.\n",
    "- Here, **statement(s)** may be a single statement or a block of statements with uniform indent. \n",
    "- The **condition** may be any expression, and true is any non-zero value. The loop iterates while the condition is true.\n",
    "- When the condition becomes false, program control passes to the line immediately following the loop.\n",
    "\n",
    "<code>\n",
    "while expression:\n",
    "   statement(s)\n",
    "</code>"
   ]
  },
  {
   "cell_type": "code",
   "execution_count": null,
   "metadata": {
    "slideshow": {
     "slide_type": "subslide"
    }
   },
   "outputs": [],
   "source": [
    "number = int(input('Enter any integer: '))\n",
    "\n",
    "fact = count = 1\n",
    "while (count <= number ):\n",
    "    fact = count * fact\n",
    "    count += 1\n",
    "print('Factorial of %d is %d' % (number, fact))"
   ]
  },
  {
   "cell_type": "markdown",
   "metadata": {
    "slideshow": {
     "slide_type": "subslide"
    }
   },
   "source": [
    "#### infinite loop\n",
    "\n",
    "- A loop becomes infinite loop if a condition never becomes FALSE\n",
    "\n",
    "<code>\n",
    "number = int(input('Enter any integer: '))\n",
    "fact = count = 1\n",
    "while (count <= number ):\n",
    "    fact = count * fact\n",
    "print('Factorial of %d is %d' % (number, fact))\n",
    "</code>    "
   ]
  },
  {
   "cell_type": "markdown",
   "metadata": {
    "slideshow": {
     "slide_type": "subslide"
    }
   },
   "source": [
    "#### Using else Statement with Loops\n",
    "\n",
    "- Python supports having an *else* statement associated with a loop statement.\n",
    "- If the *else* statement is used with a *for* loop, the *else* block is executed only if the *for* loops terminates normally (and not by encountering break statement).\n",
    "- If the *else* statement is used with a *while* loop, then the *else* statement is executed when the condition becomes false."
   ]
  },
  {
   "cell_type": "code",
   "execution_count": null,
   "metadata": {
    "slideshow": {
     "slide_type": "subslide"
    }
   },
   "outputs": [],
   "source": [
    "numbers = [11,33,55,39,55,75,37,21,23,41,13]\n",
    "\n",
    "for num in numbers:\n",
    "   if num%2 == 0:\n",
    "      print ('the list contains an even number')\n",
    "      break\n",
    "else:\n",
    "   print ('the list does not contain even number')"
   ]
  },
  {
   "cell_type": "code",
   "execution_count": null,
   "metadata": {},
   "outputs": [],
   "source": [
    "count = 0\n",
    "while count < 5:\n",
    "   print (count, \" is  less than 5\")\n",
    "   count = count + 1\n",
    "else:\n",
    "   print (count, \" is not less than 5\")"
   ]
  },
  {
   "cell_type": "markdown",
   "metadata": {
    "slideshow": {
     "slide_type": "slide"
    }
   },
   "source": [
    "## File Handling\n",
    "\n",
    "\n",
    "- To read/write a file, you have to open it with an appropriate mode as the second parameter\n",
    "\n",
    "<code>\n",
    "open(filename, mode)    \n",
    "</code>\n",
    "\n",
    "| mode | description |\n",
    "|------|-------------|\n",
    "| r | Opens a file for reading only, default mode |\n",
    "| w | Opens a file for writing only |\n",
    "| a | Opens a file for appending only. File pointer is at end of file |\n",
    "| rb | Opens a file for reading only in binary |\n",
    "| wb | Opens a file for writing only in binary|\n"
   ]
  },
  {
   "cell_type": "code",
   "execution_count": null,
   "metadata": {
    "slideshow": {
     "slide_type": "subslide"
    }
   },
   "outputs": [],
   "source": [
    "fout = open('output.txt', 'w')\n",
    "print(fout)"
   ]
  },
  {
   "cell_type": "markdown",
   "metadata": {},
   "source": [
    "- If the file already exists, opening it in write mode clears out the old data.\n",
    "- If the file doesn’t exist, a new one is created.\n",
    "- The *write* method puts data into the file."
   ]
  },
  {
   "cell_type": "code",
   "execution_count": null,
   "metadata": {},
   "outputs": [],
   "source": [
    "line1 = \"This here's the wattle,\\n\"\n",
    "fout.write(line1)"
   ]
  },
  {
   "cell_type": "code",
   "execution_count": null,
   "metadata": {},
   "outputs": [],
   "source": [
    "line2 = \"the emblem of our land.\\n\"\n",
    "fout.write(line2)"
   ]
  },
  {
   "cell_type": "markdown",
   "metadata": {
    "slideshow": {
     "slide_type": "subslide"
    }
   },
   "source": [
    "- When you are done writing, you have to close the file."
   ]
  },
  {
   "cell_type": "code",
   "execution_count": null,
   "metadata": {},
   "outputs": [],
   "source": [
    "fout.close()\n",
    "!cat output.txt"
   ]
  },
  {
   "cell_type": "markdown",
   "metadata": {},
   "source": [
    "- To read data back from the file you need one of these three methods\n",
    "\n",
    "| Method | Description |\n",
    "|--------|-------------|\n",
    "| read([number]) | Return specified number of characters from the file. <br>if omitted it will read the entire contents of the file.|\n",
    "| readline() | Return the next line of the file.|\n",
    "| readlines() | Read all the lines as a list of strings in the file|"
   ]
  },
  {
   "cell_type": "markdown",
   "metadata": {
    "slideshow": {
     "slide_type": "subslide"
    }
   },
   "source": [
    "- Reading all the data at once."
   ]
  },
  {
   "cell_type": "code",
   "execution_count": null,
   "metadata": {},
   "outputs": [],
   "source": [
    "f = open('myscript.py', 'r')\n",
    "f.read() \n"
   ]
  },
  {
   "cell_type": "code",
   "execution_count": null,
   "metadata": {},
   "outputs": [],
   "source": [
    "f.close()"
   ]
  },
  {
   "cell_type": "markdown",
   "metadata": {
    "slideshow": {
     "slide_type": "-"
    }
   },
   "source": [
    "- Reading all lines as an array"
   ]
  },
  {
   "cell_type": "code",
   "execution_count": null,
   "metadata": {},
   "outputs": [],
   "source": [
    "f = open('myscript.py', 'r')\n",
    "f.readlines() "
   ]
  },
  {
   "cell_type": "code",
   "execution_count": null,
   "metadata": {},
   "outputs": [],
   "source": [
    "f.close()"
   ]
  },
  {
   "cell_type": "markdown",
   "metadata": {
    "slideshow": {
     "slide_type": "subslide"
    }
   },
   "source": [
    "- Reading only one line."
   ]
  },
  {
   "cell_type": "code",
   "execution_count": null,
   "metadata": {},
   "outputs": [],
   "source": [
    "f = open('myscript.py', 'r')\n",
    "f.readline() "
   ]
  },
  {
   "cell_type": "code",
   "execution_count": null,
   "metadata": {},
   "outputs": [],
   "source": [
    "f.close()"
   ]
  },
  {
   "cell_type": "markdown",
   "metadata": {
    "slideshow": {
     "slide_type": "-"
    }
   },
   "source": [
    "- You can iterate through the file using file pointer."
   ]
  },
  {
   "cell_type": "code",
   "execution_count": null,
   "metadata": {},
   "outputs": [],
   "source": [
    "f = open('myscript.py', 'r')\n",
    "for line in f:\n",
    "    print(line)\n",
    "f.close()    "
   ]
  },
  {
   "cell_type": "markdown",
   "metadata": {
    "slideshow": {
     "slide_type": "subslide"
    }
   },
   "source": [
    "### Formatted output\n",
    "\n",
    "- The argument of write has to be a string\n",
    "- convert other values to strings using *str*"
   ]
  },
  {
   "cell_type": "code",
   "execution_count": null,
   "metadata": {},
   "outputs": [],
   "source": [
    "f = open('output.txt', 'w')\n",
    "x = 52\n",
    "f.write(str(x))\n",
    "f.close()\n",
    "!cat output.txt"
   ]
  },
  {
   "cell_type": "markdown",
   "metadata": {},
   "source": [
    "- An alternative is to use the **format operator**, %\n",
    "- The first operand is the **format string**, and the second operand is a **tuple of expressions**."
   ]
  },
  {
   "cell_type": "code",
   "execution_count": null,
   "metadata": {},
   "outputs": [],
   "source": [
    "tempc = float(input('Enter Temperature in Celcius: '))\n",
    "\n",
    "print(\"%6.2f C = %6.2f F\" % (tempc, celcius_to_fahrenheit(tempc)))"
   ]
  },
  {
   "cell_type": "markdown",
   "metadata": {
    "slideshow": {
     "slide_type": "subslide"
    }
   },
   "source": [
    "- The general syntax for print function is <code>print(format string with placeholder % (variables) )</code>\n",
    "\n",
    "- The general syntax for a format placeholder is <code>%[flags][width][.precision]type</code>\n",
    "\n",
    "| type | data type |\n",
    "|------|-----------|\n",
    "| s | strings |\n",
    "| f or F | floating point numbers |\n",
    "| d or i | integers |\n",
    "| e or E | Floating point exponential format |\n",
    "| g or G | same as e or E if exponent is greater than -4, f or F otherwise |"
   ]
  },
  {
   "cell_type": "markdown",
   "metadata": {
    "slideshow": {
     "slide_type": "subslide"
    }
   },
   "source": [
    "- If you try to open a file that doesn’t exist, you get an IOError:\n"
   ]
  },
  {
   "cell_type": "code",
   "execution_count": null,
   "metadata": {},
   "outputs": [],
   "source": [
    "fin = open('bad_file')"
   ]
  },
  {
   "cell_type": "markdown",
   "metadata": {},
   "source": [
    "- If you don’t have permission to access a file\n"
   ]
  },
  {
   "cell_type": "code",
   "execution_count": null,
   "metadata": {},
   "outputs": [],
   "source": [
    "fout = open('/etc/passwd', 'w')"
   ]
  },
  {
   "cell_type": "markdown",
   "metadata": {
    "slideshow": {
     "slide_type": "subslide"
    }
   },
   "source": [
    "- or if you try to open a directory for reading"
   ]
  },
  {
   "cell_type": "code",
   "execution_count": null,
   "metadata": {},
   "outputs": [],
   "source": [
    "fin = open('/home')"
   ]
  },
  {
   "cell_type": "markdown",
   "metadata": {
    "slideshow": {
     "slide_type": "-"
    }
   },
   "source": [
    "- Python provides statements, *try* and *except* to allow programmers to gracefully quit the program"
   ]
  },
  {
   "cell_type": "code",
   "execution_count": null,
   "metadata": {},
   "outputs": [],
   "source": [
    "try:    \n",
    "    fin = open('bad.txt')\n",
    "    for line in fin:\n",
    "        print(line)\n",
    "    fin.close()\n",
    "except:\n",
    "    print('Something went wrong.')"
   ]
  },
  {
   "cell_type": "code",
   "execution_count": null,
   "metadata": {
    "slideshow": {
     "slide_type": "subslide"
    }
   },
   "outputs": [],
   "source": [
    "!cat test1.py"
   ]
  },
  {
   "cell_type": "code",
   "execution_count": null,
   "metadata": {},
   "outputs": [],
   "source": [
    "!python test1.py"
   ]
  },
  {
   "cell_type": "code",
   "execution_count": null,
   "metadata": {
    "slideshow": {
     "slide_type": "subslide"
    }
   },
   "outputs": [],
   "source": [
    "!cat test2.py"
   ]
  },
  {
   "cell_type": "code",
   "execution_count": null,
   "metadata": {},
   "outputs": [],
   "source": [
    "!python test2.py"
   ]
  },
  {
   "cell_type": "markdown",
   "metadata": {
    "slideshow": {
     "slide_type": "slide"
    }
   },
   "source": [
    "## NumPy\n",
    "\n",
    "- NumPy is the fundamental package for scientific computing with Python. \n",
    "- It contains among other things\n",
    "   - a powerful N-dimensional array object\n",
    "   - sophisticated (broadcasting) functions\n",
    "   - tools for integrating C/C++ and Fortran code\n",
    "   - useful linear algebra, Fourier transform, and random number capabilities\n",
    "- NumPy can also be used as an efficient multi-dimensional container of generic data. \n",
    "- Numpy arrays are a great alternative to Python Lists"
   ]
  },
  {
   "cell_type": "markdown",
   "metadata": {
    "slideshow": {
     "slide_type": "subslide"
    }
   },
   "source": [
    "- NumPy’s main object is the homogeneous multidimensional array.\n",
    "- NumPy’s array class is called *ndarray*. It is also known by the alias *array*\n",
    "- The more important attributes of an *ndarray* object are:\n",
    "   - ndarray.ndim: the number of axes (dimensions) of the array.\n",
    "   - ndarray.shape: the dimensions of the array.\n",
    "   - ndarray.size: the total number of elements of the array.\n",
    "   - ndarray.dtype: an object describing the type of the elements in the array.\n",
    "   - ndarray.itemsize: the size in bytes of each element of the array.\n",
    "   - ndarray.data: the buffer containing the actual elements of the array."
   ]
  },
  {
   "cell_type": "markdown",
   "metadata": {
    "slideshow": {
     "slide_type": "-"
    }
   },
   "source": [
    "- To use Numpy, you need to import the numpy module\n",
    "    * convention: import as np and then use the dot notation"
   ]
  },
  {
   "cell_type": "code",
   "execution_count": null,
   "metadata": {
    "slideshow": {
     "slide_type": "-"
    }
   },
   "outputs": [],
   "source": [
    "import numpy as np"
   ]
  },
  {
   "cell_type": "markdown",
   "metadata": {
    "slideshow": {
     "slide_type": "subslide"
    }
   },
   "source": [
    "### Numpy Arrays\n",
    "\n",
    "-  create an array from a regular Python _list_ or _tuple_ using the _array_ function"
   ]
  },
  {
   "cell_type": "code",
   "execution_count": null,
   "metadata": {},
   "outputs": [],
   "source": [
    "a = np.array([2,3,4])\n",
    "print(a, a.dtype)\n"
   ]
  },
  {
   "cell_type": "markdown",
   "metadata": {},
   "source": [
    "- _array_ transforms sequences of sequences into two-dimensional arrays, sequences of sequences of sequences into three-dimensional arrays"
   ]
  },
  {
   "cell_type": "code",
   "execution_count": null,
   "metadata": {},
   "outputs": [],
   "source": [
    "b = np.array([(1.2, 3.5, 5.1),(4.1,6.1,0.5)])\n",
    "print(b, b.dtype)"
   ]
  },
  {
   "cell_type": "markdown",
   "metadata": {
    "slideshow": {
     "slide_type": "subslide"
    }
   },
   "source": [
    "- The type of the array can also be explicitly specified at creation time"
   ]
  },
  {
   "cell_type": "code",
   "execution_count": null,
   "metadata": {},
   "outputs": [],
   "source": [
    "c = np.array( [ [1,2], [3,4] ], dtype=complex )\n",
    "c"
   ]
  },
  {
   "cell_type": "markdown",
   "metadata": {},
   "source": [
    "- The function _zeros_ creates an array full of zeros, \n",
    "- the function _ones_ creates an array full of ones, and \n",
    "- the function _empty_ creates an array whose initial content is random and depends on the state of the memory."
   ]
  },
  {
   "cell_type": "code",
   "execution_count": null,
   "metadata": {},
   "outputs": [],
   "source": [
    "print('Zeros: ',np.zeros( (3,4) ))\n",
    "print('Ones', np.ones( (2,4), dtype=np.float64 ))\n",
    "print('Empty', np.empty( (2,3) ))"
   ]
  },
  {
   "cell_type": "markdown",
   "metadata": {
    "slideshow": {
     "slide_type": "subslide"
    }
   },
   "source": [
    "- NumPy provides a function analogous to range that returns arrays instead of lists."
   ]
  },
  {
   "cell_type": "code",
   "execution_count": null,
   "metadata": {},
   "outputs": [],
   "source": [
    "np.arange( 10, 30, 5 )"
   ]
  },
  {
   "cell_type": "markdown",
   "metadata": {},
   "source": [
    "- The _reshape_ function can be used to convert an array into a matrix"
   ]
  },
  {
   "cell_type": "code",
   "execution_count": null,
   "metadata": {},
   "outputs": [],
   "source": [
    "a = np.arange(15).reshape(3, 5)\n",
    "a"
   ]
  },
  {
   "cell_type": "code",
   "execution_count": null,
   "metadata": {
    "slideshow": {
     "slide_type": "subslide"
    }
   },
   "outputs": [],
   "source": [
    "print(\"array dimensions: \", a.shape)\n",
    "print(\"number of dimensions: \", a.ndim)\n",
    "print(\"element types: \", a.dtype.name)\n",
    "print(\"size of elements: \", a.itemsize)\n",
    "print(\"total number of elements: \",a.size)\n",
    "print(\"type of object:\",type(a))"
   ]
  },
  {
   "cell_type": "markdown",
   "metadata": {
    "slideshow": {
     "slide_type": "subslide"
    }
   },
   "source": [
    " - Arithmetic operators on arrays apply elementwise"
   ]
  },
  {
   "cell_type": "code",
   "execution_count": null,
   "metadata": {},
   "outputs": [],
   "source": [
    "a = np.array( [20,30,40,50] )\n",
    "b = np.arange( 4 )\n",
    "print('a: ', a)\n",
    "print('b:', b)\n",
    "print('a-b:', a-b)\n",
    "print('B**2', b**2)\n",
    "print('10*sin(a): ', 10*np.sin(a))\n",
    "print('Which elements of a < 35:', a<35)\n",
    "print('Elements of a < 35: ',a[a<35])"
   ]
  },
  {
   "cell_type": "code",
   "execution_count": null,
   "metadata": {
    "slideshow": {
     "slide_type": "subslide"
    }
   },
   "outputs": [],
   "source": [
    "A = np.array( [[1,1], [0,1]] )\n",
    "B = np.array( [[2,0], [3,4]] )\n",
    "print('A = ', A)\n",
    "print('B = ', B)\n",
    "print('A*B = ', A*B)\n",
    "print('A . B = ', A.dot(B))\n",
    "print('Numpy A. B = ', np.dot(A, B))"
   ]
  },
  {
   "cell_type": "markdown",
   "metadata": {
    "slideshow": {
     "slide_type": "subslide"
    }
   },
   "source": [
    "- Numpy provides *linspace* for generating a sequence of linearly spaced numbers and a random number generator"
   ]
  },
  {
   "cell_type": "code",
   "execution_count": null,
   "metadata": {},
   "outputs": [],
   "source": [
    "np.linspace(0,2*pi,4)"
   ]
  },
  {
   "cell_type": "code",
   "execution_count": null,
   "metadata": {},
   "outputs": [],
   "source": [
    "np.random.random((2,3))"
   ]
  },
  {
   "cell_type": "markdown",
   "metadata": {
    "slideshow": {
     "slide_type": "subslide"
    }
   },
   "source": [
    "- NumPy provides mathematical functions such as sin, cos, and exp."
   ]
  },
  {
   "cell_type": "code",
   "execution_count": null,
   "metadata": {},
   "outputs": [],
   "source": [
    "B = np.arange(3)\n",
    "print('B: ',B)\n",
    "print('exp(B): ',np.exp(B))\n",
    "print('sqrt(B): ',np.sqrt(B))\n",
    "C = np.array([2., -1., 4.])\n",
    "print('C: ', C)\n",
    "print('B + C: ', np.add(B, C))"
   ]
  },
  {
   "cell_type": "markdown",
   "metadata": {
    "slideshow": {
     "slide_type": "skip"
    }
   },
   "source": [
    "## Visualization\n",
    "\n",
    "- Matplotlib is the most popular visualization tool used in Python\n",
    "- Other visualization tools commonly used are bokeh, seaborn and plot.ly\n",
    "- More details at next weeks seminar"
   ]
  },
  {
   "cell_type": "code",
   "execution_count": null,
   "metadata": {
    "slideshow": {
     "slide_type": "skip"
    }
   },
   "outputs": [],
   "source": [
    "import matplotlib.pyplot as plt\n",
    "import numpy as np\n",
    "%matplotlib inline\n",
    "\n",
    "# Prepare the data\n",
    "x = np.linspace(0, 10, 100)\n",
    "\n",
    "# Plot the data\n",
    "plt.plot(x, x, label='linear')\n",
    "\n",
    "# Add a legend\n",
    "plt.legend()\n",
    "\n",
    "# Show the plot\n",
    "plt.show()"
   ]
  },
  {
   "cell_type": "code",
   "execution_count": null,
   "metadata": {
    "slideshow": {
     "slide_type": "skip"
    }
   },
   "outputs": [],
   "source": [
    "plt.plot([1, 2, 3, 4], [1, 4, 9, 16])"
   ]
  },
  {
   "cell_type": "code",
   "execution_count": null,
   "metadata": {
    "slideshow": {
     "slide_type": "skip"
    }
   },
   "outputs": [],
   "source": [
    "plt.plot([1,2,3,4], [1,4,9,16], 'ro')\n",
    "plt.axis([0, 6, 0, 20])\n",
    "plt.show()"
   ]
  },
  {
   "cell_type": "markdown",
   "metadata": {
    "slideshow": {
     "slide_type": "skip"
    }
   },
   "source": [
    "- Saving a figure can be done using the *savefig()* command"
   ]
  },
  {
   "cell_type": "code",
   "execution_count": null,
   "metadata": {
    "slideshow": {
     "slide_type": "skip"
    }
   },
   "outputs": [],
   "source": [
    "fig = plt.figure()\n",
    "ax = fig.add_subplot(111)\n",
    "ax.plot([1, 2, 3, 4], [10, 20, 25, 30], color='lightblue', linewidth=3)\n",
    "ax.scatter([0.3, 3.8, 1.2, 2.5], [11, 25, 9, 26], color='darkgreen', marker='^')\n",
    "ax.set_xlim(0.5, 4.5)\n",
    "fig.savefig('my_figure.png')"
   ]
  },
  {
   "cell_type": "code",
   "execution_count": null,
   "metadata": {
    "slideshow": {
     "slide_type": "skip"
    }
   },
   "outputs": [],
   "source": [
    "from IPython.display import Image\n",
    "Image('my_figure.png')"
   ]
  },
  {
   "cell_type": "code",
   "execution_count": null,
   "metadata": {
    "slideshow": {
     "slide_type": "skip"
    }
   },
   "outputs": [],
   "source": [
    "t = np.arange(0., 5., 0.2)\n",
    "\n",
    "# red dashes, blue squares and green triangles\n",
    "plt.plot(t, t, 'r--', t, t**2, 'bs', t, t**3, 'g^')\n",
    "plt.show()"
   ]
  },
  {
   "cell_type": "code",
   "execution_count": null,
   "metadata": {
    "scrolled": true,
    "slideshow": {
     "slide_type": "skip"
    }
   },
   "outputs": [],
   "source": [
    "def f(t):\n",
    "    return np.exp(-t) * np.cos(2*np.pi*t)\n",
    "\n",
    "t1 = np.arange(0.0, 5.0, 0.1)\n",
    "t2 = np.arange(0.0, 5.0, 0.02)\n",
    "\n",
    "plt.figure(1)\n",
    "plt.subplot(211)\n",
    "plt.plot(t1, f(t1), 'bo', t2, f(t2), 'k')\n",
    "\n",
    "plt.subplot(212)\n",
    "plt.plot(t2, np.cos(2*np.pi*t2), 'r--')\n",
    "plt.show()"
   ]
  },
  {
   "cell_type": "code",
   "execution_count": null,
   "metadata": {
    "slideshow": {
     "slide_type": "skip"
    }
   },
   "outputs": [],
   "source": [
    "np.random.seed(19680801)\n",
    "\n",
    "mu, sigma = 100, 15\n",
    "x = mu + sigma * np.random.randn(10000)\n",
    "\n",
    "# the histogram of the data\n",
    "n, bins, patches = plt.hist(x, 50, density=1, facecolor='g', alpha=0.75)\n",
    "\n",
    "plt.xlabel('Smarts')\n",
    "plt.ylabel('Probability')\n",
    "plt.title('Histogram of IQ')\n",
    "plt.text(60, .025, r'$\\mu=100,\\ \\sigma=15$')\n",
    "plt.axis([40, 160, 0, 0.03])\n",
    "plt.grid(True)\n",
    "plt.show()"
   ]
  },
  {
   "cell_type": "code",
   "execution_count": null,
   "metadata": {
    "slideshow": {
     "slide_type": "skip"
    }
   },
   "outputs": [],
   "source": [
    "N = 5\n",
    "menMeans = (20, 35, 30, 35, 27)\n",
    "womenMeans = (25, 32, 34, 20, 25)\n",
    "menStd = (2, 3, 4, 1, 2)\n",
    "womenStd = (3, 5, 2, 3, 3)\n",
    "ind = np.arange(N)    # the x locations for the groups\n",
    "width = 0.35       # the width of the bars: can also be len(x) sequence\n",
    "\n",
    "p1 = plt.bar(ind, menMeans, width, yerr=menStd)\n",
    "p2 = plt.bar(ind, womenMeans, width,\n",
    "             bottom=menMeans, yerr=womenStd)\n",
    "\n",
    "plt.ylabel('Scores')\n",
    "plt.title('Scores by group and gender')\n",
    "plt.xticks(ind, ('G1', 'G2', 'G3', 'G4', 'G5'))\n",
    "plt.yticks(np.arange(0, 81, 10))\n",
    "plt.legend((p1[0], p2[0]), ('Men', 'Women'))\n",
    "\n",
    "plt.show()"
   ]
  },
  {
   "cell_type": "code",
   "execution_count": null,
   "metadata": {
    "slideshow": {
     "slide_type": "skip"
    }
   },
   "outputs": [],
   "source": [
    "labels = 'Frogs', 'Hogs', 'Dogs', 'Logs'\n",
    "sizes = [15, 30, 45, 10]\n",
    "explode = (0, 0.1, 0, 0)  # only \"explode\" the 2nd slice (i.e. 'Hogs')\n",
    "\n",
    "fig1, ax1 = plt.subplots()\n",
    "ax1.pie(sizes, explode=explode, labels=labels, autopct='%1.1f%%',\n",
    "        shadow=True, startangle=90)\n",
    "ax1.axis('equal')  # Equal aspect ratio ensures that pie is drawn as a circle.\n",
    "\n",
    "plt.show()"
   ]
  },
  {
   "cell_type": "code",
   "execution_count": null,
   "metadata": {
    "slideshow": {
     "slide_type": "skip"
    }
   },
   "outputs": [],
   "source": [
    "x = np.linspace(0, 5, 50)\n",
    "y = np.linspace(0, 5, 50)[:, np.newaxis]\n",
    "\n",
    "z = np.sin(x) ** 10 + np.cos(10 + y * x) * np.cos(x)\n",
    "plt.imshow(z, origin='lower', extent=[0, 5, 0, 5],\n",
    "           cmap='viridis')\n",
    "plt.colorbar();"
   ]
  },
  {
   "cell_type": "markdown",
   "metadata": {
    "slideshow": {
     "slide_type": "slide"
    }
   },
   "source": [
    "# Further Reading: Python Books\n",
    "\n",
    "- **Think Python 2e** - Allen B. Downey\n",
    "- **Automate the Boring Stuff with Python** - Al Sweigart\n",
    "- **Python for Data Analysis: Data Wrangling with Pandas, NumPy, and IPython** - Wes McKinney \n",
    "- **Think Stats** - Allen B. Downey\n",
    "- **Think Bayes: Bayesian Statistics in Python** - Allen B. Downey\n",
    "- **Python Data Science Handbook** - Jake VanderPlas\n"
   ]
  }
 ],
 "metadata": {
  "celltoolbar": "Slideshow",
  "kernelspec": {
   "display_name": "Python 3",
   "language": "python",
   "name": "python3"
  },
  "language_info": {
   "codemirror_mode": {
    "name": "ipython",
    "version": 3
   },
   "file_extension": ".py",
   "mimetype": "text/x-python",
   "name": "python",
   "nbconvert_exporter": "python",
   "pygments_lexer": "ipython3",
   "version": "3.7.3"
  }
 },
 "nbformat": 4,
 "nbformat_minor": 2
}
